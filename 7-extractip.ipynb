{
 "cells": [
  {
   "cell_type": "code",
   "execution_count": 1,
   "metadata": {
    "collapsed": true
   },
   "outputs": [],
   "source": [
    "# 打开文件\n",
    "fr = open('sendTelCode.txt')\n",
    "\n",
    "# 定义一个空的字典\n",
    "stat = {}"
   ]
  },
  {
   "cell_type": "code",
   "execution_count": 2,
   "metadata": {
    "collapsed": true
   },
   "outputs": [],
   "source": [
    "# 逐行处理文件 sendTelCode.txt\n",
    "for line in fr:\n",
    "  if len(line) == 0:\n",
    "    continue\n",
    "  ip = line.split(' - - ')[0]\n",
    "\n",
    "  if not stat.has_key(ip):\n",
    "    stat[ip] = 0\n",
    "  stat[ip] +=1"
   ]
  },
  {
   "cell_type": "code",
   "execution_count": 3,
   "metadata": {
    "collapsed": true
   },
   "outputs": [],
   "source": [
    "# 按IP出现次数排序\n",
    "stat = sorted(stat.iteritems(), key = lambda d:d[1], reverse = True)"
   ]
  },
  {
   "cell_type": "code",
   "execution_count": 6,
   "metadata": {
    "collapsed": false,
    "scrolled": true
   },
   "outputs": [
    {
     "name": "stdout",
     "output_type": "stream",
     "text": [
      "('124.127.148.81', 13060)\n",
      "('211.161.241.61', 8255)\n",
      "('115.171.78.53', 7001)\n",
      "('183.141.200.118', 6839)\n",
      "('124.127.148.35', 5432)\n",
      "('220.250.18.239', 2687)\n",
      "('59.58.2.138', 2489)\n",
      "('49.89.19.61', 1325)\n",
      "('122.247.65.36', 1172)\n",
      "('183.193.190.93', 831)\n"
     ]
    }
   ],
   "source": [
    "for item in stat[0:10]:\n",
    "    print item"
   ]
  },
  {
   "cell_type": "code",
   "execution_count": 8,
   "metadata": {
    "collapsed": false
   },
   "outputs": [],
   "source": [
    "fw = open(\"banthis.resore\",'w')\n",
    "fw.write('create banthis hash:net family inet hashsize 1024 maxelem 65536\\n')"
   ]
  },
  {
   "cell_type": "code",
   "execution_count": 9,
   "metadata": {
    "collapsed": true
   },
   "outputs": [],
   "source": [
    "for item in stat:\n",
    "  if item[1] >= 10:\n",
    "    #fw.write( item[0] + ',' + str(item[1]) + '\\n')\n",
    "    fw.write( 'add banthis ' + item[0] + '\\n')\n",
    "  else:\n",
    "    pass"
   ]
  },
  {
   "cell_type": "code",
   "execution_count": 10,
   "metadata": {
    "collapsed": true
   },
   "outputs": [],
   "source": [
    "# 关闭文件\n",
    "fw.close() \n",
    "fr.close()"
   ]
  }
 ],
 "metadata": {
  "kernelspec": {
   "display_name": "Python 2",
   "language": "python",
   "name": "python2"
  },
  "language_info": {
   "codemirror_mode": {
    "name": "ipython",
    "version": 2
   },
   "file_extension": ".py",
   "mimetype": "text/x-python",
   "name": "python",
   "nbconvert_exporter": "python",
   "pygments_lexer": "ipython2",
   "version": "2.7.11"
  }
 },
 "nbformat": 4,
 "nbformat_minor": 0
}
