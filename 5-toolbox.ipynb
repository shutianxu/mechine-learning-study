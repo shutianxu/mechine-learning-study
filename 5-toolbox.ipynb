{
 "cells": [
  {
   "cell_type": "markdown",
   "metadata": {},
   "source": [
    "## 数据科学工具箱\n",
    "\n",
    "\n",
    "Python中科学计算相关的包有很多，以下的组合可以说是数据科学工具箱的标配：\n",
    "\n",
    "- **Numpy**: 提供向量，数组和矩阵类型，支持向量化运算。\n",
    "\n",
    "\n",
    "- **scipy**: 由多个模块组成，包括稀疏矩阵，统计分布和最优化等。\n",
    "\n",
    "\n",
    "- **matplotlib**: Python中的标准绘图模块，语法与matlab类似。\n",
    "\n",
    "\n",
    "- **seaborn**: 基于matplotlib的高级绘图模块，对常用的图像提供了更简单易用的接口\n",
    "\n",
    "\n",
    "- **Pandas**: 提供DataFrame数据结构，与R中的data.frame类似。内含常用的分组统计，缺失值处理等操作，包括DataFrame的读写和各种类型的转换\n",
    "\n",
    "\n",
    "- **scikit-learn**: 机器学习标准库，包含常用的监督学习(分类和回归)和无监督学习方法(聚类和分类)。常用的数据预处理，特征转换和特征选择也都打包进去\n",
    "\n"
   ]
  },
  {
   "cell_type": "markdown",
   "metadata": {},
   "source": [
    "## Numpy"
   ]
  },
  {
   "cell_type": "code",
   "execution_count": 4,
   "metadata": {
    "collapsed": false
   },
   "outputs": [
    {
     "name": "stdout",
     "output_type": "stream",
     "text": [
      " 向量化操作: [1 2 3] + 1 = [2 3 4]\n"
     ]
    }
   ],
   "source": [
    "import numpy as np\n",
    "array_example = np.array([1, 2, 3])\n",
    "print '向量化操作: %s + 1 = %s' %(array_example, array_example + 1)"
   ]
  },
  {
   "cell_type": "code",
   "execution_count": 5,
   "metadata": {
    "collapsed": false
   },
   "outputs": [
    {
     "name": "stdout",
     "output_type": "stream",
     "text": [
      "加法: \n",
      "[[ 2  4  6]\n",
      " [ 8 10 12]\n",
      " [14 16 18]]\n",
      "乘法: \n",
      "[[ 1  4  9]\n",
      " [16 25 36]\n",
      " [49 64 81]]\n"
     ]
    }
   ],
   "source": [
    "array_example = np.array([[1, 2, 3],\n",
    "                          [4, 5, 6],\n",
    "                          [7, 8, 9]\n",
    "                         ])\n",
    "# element-wise 相同纬度的数组相加/乘，与R类似\n",
    "print '加法: \\n', array_example + array_example\n",
    "\n",
    "print '乘法: \\n', array_example * array_example"
   ]
  },
  {
   "cell_type": "markdown",
   "metadata": {},
   "source": [
    "注意: **转成矩阵后，乘法遵循矩阵的乘法规则**\n",
    "\n",
    "$$C_{ij} = \\sum_{k=1}^{m}A_{ik} * B{kj}$$"
   ]
  },
  {
   "cell_type": "code",
   "execution_count": 6,
   "metadata": {
    "collapsed": false
   },
   "outputs": [
    {
     "data": {
      "text/plain": [
       "matrix([[ 30,  36,  42],\n",
       "        [ 66,  81,  96],\n",
       "        [102, 126, 150]])"
      ]
     },
     "execution_count": 6,
     "metadata": {},
     "output_type": "execute_result"
    }
   ],
   "source": [
    "mat_example = np.mat(array_example)\n",
    "mat_example * mat_example"
   ]
  },
  {
   "cell_type": "markdown",
   "metadata": {},
   "source": [
    "每行/列的操作："
   ]
  },
  {
   "cell_type": "code",
   "execution_count": 8,
   "metadata": {
    "collapsed": false
   },
   "outputs": [
    {
     "name": "stdout",
     "output_type": "stream",
     "text": [
      "所有元素之和:  45\n",
      "每列元素之和:  [[12 15 18]]\n",
      "每行元素之和:  [[6], [15], [24]]\n"
     ]
    }
   ],
   "source": [
    "# max，min等函数 也支持 定义axis在行或者列上操作运算\n",
    "print '所有元素之和: ', np.sum(mat_example) \n",
    "print '每列元素之和: ', np.sum(mat_example, axis=0)\n",
    "print '每行元素之和: ', np.sum(mat_example, axis=1).tolist()"
   ]
  },
  {
   "cell_type": "markdown",
   "metadata": {},
   "source": [
    "## Pandas "
   ]
  },
  {
   "cell_type": "code",
   "execution_count": 1,
   "metadata": {
    "collapsed": false
   },
   "outputs": [
    {
     "name": "stdout",
     "output_type": "stream",
     "text": [
      "\"expensure\",\"transfer\"\n",
      "2976,1863\n",
      "2963,2048\n",
      "2950,1940\n",
      "2926,1737\n"
     ]
    }
   ],
   "source": [
    "!head -5 card.csv"
   ]
  },
  {
   "cell_type": "markdown",
   "metadata": {},
   "source": [
    "### 方便的数据读取"
   ]
  },
  {
   "cell_type": "code",
   "execution_count": 2,
   "metadata": {
    "collapsed": false,
    "scrolled": true
   },
   "outputs": [
    {
     "data": {
      "text/html": [
       "<div>\n",
       "<table border=\"1\" class=\"dataframe\">\n",
       "  <thead>\n",
       "    <tr style=\"text-align: right;\">\n",
       "      <th></th>\n",
       "      <th>expensure</th>\n",
       "      <th>transfer</th>\n",
       "    </tr>\n",
       "  </thead>\n",
       "  <tbody>\n",
       "    <tr>\n",
       "      <th>0</th>\n",
       "      <td>2976</td>\n",
       "      <td>1863</td>\n",
       "    </tr>\n",
       "    <tr>\n",
       "      <th>1</th>\n",
       "      <td>2963</td>\n",
       "      <td>2048</td>\n",
       "    </tr>\n",
       "    <tr>\n",
       "      <th>2</th>\n",
       "      <td>2950</td>\n",
       "      <td>1940</td>\n",
       "    </tr>\n",
       "    <tr>\n",
       "      <th>3</th>\n",
       "      <td>2926</td>\n",
       "      <td>1737</td>\n",
       "    </tr>\n",
       "    <tr>\n",
       "      <th>4</th>\n",
       "      <td>2861</td>\n",
       "      <td>2227</td>\n",
       "    </tr>\n",
       "  </tbody>\n",
       "</table>\n",
       "</div>"
      ],
      "text/plain": [
       "   expensure  transfer\n",
       "0       2976      1863\n",
       "1       2963      2048\n",
       "2       2950      1940\n",
       "3       2926      1737\n",
       "4       2861      2227"
      ]
     },
     "execution_count": 2,
     "metadata": {},
     "output_type": "execute_result"
    }
   ],
   "source": [
    "import pandas as pd\n",
    "df = pd.read_csv('card.csv')\n",
    "df.head()"
   ]
  },
  {
   "cell_type": "code",
   "execution_count": 12,
   "metadata": {
    "collapsed": false
   },
   "outputs": [
    {
     "data": {
      "text/html": [
       "<div>\n",
       "<table border=\"1\" class=\"dataframe\">\n",
       "  <thead>\n",
       "    <tr style=\"text-align: right;\">\n",
       "      <th></th>\n",
       "      <th>expensure</th>\n",
       "      <th>transfer</th>\n",
       "    </tr>\n",
       "  </thead>\n",
       "  <tbody>\n",
       "    <tr>\n",
       "      <th>count</th>\n",
       "      <td>300.000000</td>\n",
       "      <td>300.000000</td>\n",
       "    </tr>\n",
       "    <tr>\n",
       "      <th>mean</th>\n",
       "      <td>3001.156667</td>\n",
       "      <td>1992.273333</td>\n",
       "    </tr>\n",
       "    <tr>\n",
       "      <th>std</th>\n",
       "      <td>189.562863</td>\n",
       "      <td>182.281835</td>\n",
       "    </tr>\n",
       "    <tr>\n",
       "      <th>min</th>\n",
       "      <td>2600.000000</td>\n",
       "      <td>1544.000000</td>\n",
       "    </tr>\n",
       "    <tr>\n",
       "      <th>25%</th>\n",
       "      <td>2859.500000</td>\n",
       "      <td>1852.000000</td>\n",
       "    </tr>\n",
       "    <tr>\n",
       "      <th>50%</th>\n",
       "      <td>2984.500000</td>\n",
       "      <td>1998.000000</td>\n",
       "    </tr>\n",
       "    <tr>\n",
       "      <th>75%</th>\n",
       "      <td>3148.000000</td>\n",
       "      <td>2132.500000</td>\n",
       "    </tr>\n",
       "    <tr>\n",
       "      <th>max</th>\n",
       "      <td>3424.000000</td>\n",
       "      <td>2446.000000</td>\n",
       "    </tr>\n",
       "  </tbody>\n",
       "</table>\n",
       "</div>"
      ],
      "text/plain": [
       "         expensure     transfer\n",
       "count   300.000000   300.000000\n",
       "mean   3001.156667  1992.273333\n",
       "std     189.562863   182.281835\n",
       "min    2600.000000  1544.000000\n",
       "25%    2859.500000  1852.000000\n",
       "50%    2984.500000  1998.000000\n",
       "75%    3148.000000  2132.500000\n",
       "max    3424.000000  2446.000000"
      ]
     },
     "execution_count": 12,
     "metadata": {},
     "output_type": "execute_result"
    }
   ],
   "source": [
    "df.describe()"
   ]
  },
  {
   "cell_type": "markdown",
   "metadata": {},
   "source": [
    "### 格式转换"
   ]
  },
  {
   "cell_type": "code",
   "execution_count": 20,
   "metadata": {
    "collapsed": false
   },
   "outputs": [
    {
     "data": {
      "text/plain": [
       "{'expensure': {0: 2976, 1: 2963, 2: 2950, 3: 2926, 4: 2861},\n",
       " 'transfer': {0: 1863, 1: 2048, 2: 1940, 3: 1737, 4: 2227}}"
      ]
     },
     "execution_count": 20,
     "metadata": {},
     "output_type": "execute_result"
    }
   ],
   "source": [
    "df.head().to_dict()"
   ]
  },
  {
   "cell_type": "code",
   "execution_count": 24,
   "metadata": {
    "collapsed": false
   },
   "outputs": [
    {
     "data": {
      "text/plain": [
       "[{'expensure': 2976, 'transfer': 1863},\n",
       " {'expensure': 2963, 'transfer': 2048},\n",
       " {'expensure': 2950, 'transfer': 1940},\n",
       " {'expensure': 2926, 'transfer': 1737},\n",
       " {'expensure': 2861, 'transfer': 2227}]"
      ]
     },
     "execution_count": 24,
     "metadata": {},
     "output_type": "execute_result"
    }
   ],
   "source": [
    "df.head().to_dict(orient='records')"
   ]
  },
  {
   "cell_type": "code",
   "execution_count": 15,
   "metadata": {
    "collapsed": false
   },
   "outputs": [
    {
     "name": "stdout",
     "output_type": "stream",
     "text": [
      "group\n",
      "False    160\n",
      "True     140\n",
      "dtype: int64\n",
      "\n",
      "消费大（小）于均值的记录的平均转账数目:\n",
      "group\n",
      "False    2850.975000\n",
      "True     3172.792857\n",
      "Name: expensure, dtype: float64\n"
     ]
    }
   ],
   "source": [
    "df['group'] = df['expensure'] > df['expensure'].mean()\n",
    "# 分组统计\n",
    "print df.groupby('group').size()\n",
    "\n",
    "print '\\n消费大（小）于均值的记录的平均转账数目:'\n",
    "print df.groupby('group')['expensure'].mean()"
   ]
  },
  {
   "cell_type": "code",
   "execution_count": 18,
   "metadata": {
    "collapsed": false
   },
   "outputs": [
    {
     "data": {
      "text/plain": [
       "count       300\n",
       "unique        2\n",
       "top       False\n",
       "freq        160\n",
       "Name: group, dtype: object"
      ]
     },
     "execution_count": 18,
     "metadata": {},
     "output_type": "execute_result"
    }
   ],
   "source": [
    "df['group'].describe()"
   ]
  },
  {
   "cell_type": "code",
   "execution_count": 16,
   "metadata": {
    "collapsed": false,
    "scrolled": true
   },
   "outputs": [
    {
     "data": {
      "text/html": [
       "<div>\n",
       "<table border=\"1\" class=\"dataframe\">\n",
       "  <thead>\n",
       "    <tr style=\"text-align: right;\">\n",
       "      <th></th>\n",
       "      <th>expensure</th>\n",
       "      <th>transfer</th>\n",
       "      <th>group</th>\n",
       "    </tr>\n",
       "  </thead>\n",
       "  <tbody>\n",
       "    <tr>\n",
       "      <th>0</th>\n",
       "      <td>2976</td>\n",
       "      <td>1863</td>\n",
       "      <td>False</td>\n",
       "    </tr>\n",
       "    <tr>\n",
       "      <th>1</th>\n",
       "      <td>2963</td>\n",
       "      <td>2048</td>\n",
       "      <td>False</td>\n",
       "    </tr>\n",
       "    <tr>\n",
       "      <th>2</th>\n",
       "      <td>2950</td>\n",
       "      <td>1940</td>\n",
       "      <td>False</td>\n",
       "    </tr>\n",
       "    <tr>\n",
       "      <th>3</th>\n",
       "      <td>2926</td>\n",
       "      <td>1737</td>\n",
       "      <td>False</td>\n",
       "    </tr>\n",
       "    <tr>\n",
       "      <th>4</th>\n",
       "      <td>2861</td>\n",
       "      <td>2227</td>\n",
       "      <td>False</td>\n",
       "    </tr>\n",
       "  </tbody>\n",
       "</table>\n",
       "</div>"
      ],
      "text/plain": [
       "   expensure  transfer  group\n",
       "0       2976      1863  False\n",
       "1       2963      2048  False\n",
       "2       2950      1940  False\n",
       "3       2926      1737  False\n",
       "4       2861      2227  False"
      ]
     },
     "execution_count": 16,
     "metadata": {},
     "output_type": "execute_result"
    }
   ],
   "source": [
    "df.head()"
   ]
  },
  {
   "cell_type": "markdown",
   "metadata": {},
   "source": [
    "`sklean`作为一个标准的机器学习库，涵盖了所有常用的模型，而且接口很一致。相对于R语言，R中的模型库略显杂乱。\n",
    "\n",
    "`sklearn`中所有模型都是一个**estimator**对象，其`fit`方法用来拟合数据，`predict`方法做预测，`predict_proba`方法预测属于每一类的概率(如果是分类模型的话)。\n",
    "\n",
    "\n",
    "基本套路:\n",
    "\n",
    "```python\n",
    "from sklearn import xx_estimator\n",
    "model = xx_estimator()\n",
    "model.fit(train_x, train_y)\n",
    "pre = model.predict(test_x)\n",
    "```"
   ]
  },
  {
   "cell_type": "markdown",
   "metadata": {},
   "source": [
    "## scikit-learn\n",
    "\n",
    "\n",
    "<a href=\"http://scikit-learn.org/stable/index.html\"><img src=\"sklearn.png\"></a>"
   ]
  },
  {
   "cell_type": "markdown",
   "metadata": {},
   "source": [
    "## 建议阅读:\n",
    "\n",
    "- [Numpy Tutorial](https://docs.scipy.org/doc/numpy-dev/user/quickstart.html)\n",
    "\n",
    "\n",
    "- [10 Minutes to pandas](http://python.jobbole.com/84416/)\n",
    "\n",
    "\n",
    "- [Comparison with R / R libraries](http://pandas.pydata.org/pandas-docs/stable/comparison_with_r.html)\n"
   ]
  }
 ],
 "metadata": {
  "kernelspec": {
   "display_name": "Python 2",
   "language": "python",
   "name": "python2"
  },
  "language_info": {
   "codemirror_mode": {
    "name": "ipython",
    "version": 2
   },
   "file_extension": ".py",
   "mimetype": "text/x-python",
   "name": "python",
   "nbconvert_exporter": "python",
   "pygments_lexer": "ipython2",
   "version": "2.7.11"
  }
 },
 "nbformat": 4,
 "nbformat_minor": 0
}
