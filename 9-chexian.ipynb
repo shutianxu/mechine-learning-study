{
 "cells": [
  {
   "cell_type": "markdown",
   "metadata": {
    "collapsed": true
   },
   "source": [
    "参考\n",
    "- <http://blog.yhat.com/posts/logistic-regression-python-rodeo.html>\n",
    "- <http://stats.stackexchange.com/questions/203740/logistic-regression-scikit-learn-vs-statsmodels>"
   ]
  },
  {
   "cell_type": "code",
   "execution_count": 103,
   "metadata": {
    "collapsed": true
   },
   "outputs": [],
   "source": [
    "import pandas as pd\n",
    "import numpy as np\n",
    "import matplotlib.pyplot as plt"
   ]
  },
  {
   "cell_type": "code",
   "execution_count": 104,
   "metadata": {
    "collapsed": true
   },
   "outputs": [],
   "source": [
    "%matplotlib inline"
   ]
  },
  {
   "cell_type": "code",
   "execution_count": 201,
   "metadata": {
    "collapsed": false,
    "scrolled": true
   },
   "outputs": [
    {
     "data": {
      "text/html": [
       "<div>\n",
       "<table border=\"1\" class=\"dataframe\">\n",
       "  <thead>\n",
       "    <tr style=\"text-align: right;\">\n",
       "      <th></th>\n",
       "      <th>EngSize</th>\n",
       "      <th>Age</th>\n",
       "      <th>Gender</th>\n",
       "      <th>Marital</th>\n",
       "      <th>exp</th>\n",
       "      <th>Owner</th>\n",
       "      <th>vAge</th>\n",
       "      <th>Garage</th>\n",
       "      <th>AntiTFD</th>\n",
       "      <th>import</th>\n",
       "      <th>Loss</th>\n",
       "    </tr>\n",
       "  </thead>\n",
       "  <tbody>\n",
       "    <tr>\n",
       "      <th>0</th>\n",
       "      <td>2.0</td>\n",
       "      <td>56</td>\n",
       "      <td>男</td>\n",
       "      <td>已婚</td>\n",
       "      <td>20</td>\n",
       "      <td>公司</td>\n",
       "      <td>10</td>\n",
       "      <td>有</td>\n",
       "      <td>有防盗装置</td>\n",
       "      <td>进口</td>\n",
       "      <td>0.0</td>\n",
       "    </tr>\n",
       "    <tr>\n",
       "      <th>1</th>\n",
       "      <td>1.8</td>\n",
       "      <td>41</td>\n",
       "      <td>男</td>\n",
       "      <td>已婚</td>\n",
       "      <td>20</td>\n",
       "      <td>公司</td>\n",
       "      <td>9</td>\n",
       "      <td>有</td>\n",
       "      <td>无防盗装置</td>\n",
       "      <td>国产</td>\n",
       "      <td>0.0</td>\n",
       "    </tr>\n",
       "    <tr>\n",
       "      <th>2</th>\n",
       "      <td>2.0</td>\n",
       "      <td>44</td>\n",
       "      <td>男</td>\n",
       "      <td>未婚</td>\n",
       "      <td>20</td>\n",
       "      <td>公司</td>\n",
       "      <td>8</td>\n",
       "      <td>有</td>\n",
       "      <td>有防盗装置</td>\n",
       "      <td>国产</td>\n",
       "      <td>0.0</td>\n",
       "    </tr>\n",
       "    <tr>\n",
       "      <th>3</th>\n",
       "      <td>1.6</td>\n",
       "      <td>56</td>\n",
       "      <td>男</td>\n",
       "      <td>已婚</td>\n",
       "      <td>20</td>\n",
       "      <td>公司</td>\n",
       "      <td>7</td>\n",
       "      <td>有</td>\n",
       "      <td>有防盗装置</td>\n",
       "      <td>国产</td>\n",
       "      <td>0.0</td>\n",
       "    </tr>\n",
       "    <tr>\n",
       "      <th>4</th>\n",
       "      <td>1.8</td>\n",
       "      <td>45</td>\n",
       "      <td>男</td>\n",
       "      <td>已婚</td>\n",
       "      <td>20</td>\n",
       "      <td>公司</td>\n",
       "      <td>7</td>\n",
       "      <td>无</td>\n",
       "      <td>无防盗装置</td>\n",
       "      <td>国产</td>\n",
       "      <td>0.0</td>\n",
       "    </tr>\n",
       "  </tbody>\n",
       "</table>\n",
       "</div>"
      ],
      "text/plain": [
       "   EngSize  Age Gender Marital  exp Owner  vAge Garage AntiTFD import  Loss\n",
       "0      2.0   56      男      已婚   20    公司    10      有   有防盗装置     进口   0.0\n",
       "1      1.8   41      男      已婚   20    公司     9      有   无防盗装置     国产   0.0\n",
       "2      2.0   44      男      未婚   20    公司     8      有   有防盗装置     国产   0.0\n",
       "3      1.6   56      男      已婚   20    公司     7      有   有防盗装置     国产   0.0\n",
       "4      1.8   45      男      已婚   20    公司     7      无   无防盗装置     国产   0.0"
      ]
     },
     "execution_count": 201,
     "metadata": {},
     "output_type": "execute_result"
    }
   ],
   "source": [
    "auto = pd.read_csv('auto.csv',encoding = 'gb2312')\n",
    "auto.head()"
   ]
  },
  {
   "cell_type": "code",
   "execution_count": 202,
   "metadata": {
    "collapsed": true
   },
   "outputs": [],
   "source": [
    "# 变量取值的转换\n",
    "\n",
    "auto['LossClass'] = auto['Loss'].map(lambda x: 1 if x > 0 else 0)"
   ]
  },
  {
   "cell_type": "code",
   "execution_count": 236,
   "metadata": {
    "collapsed": false,
    "scrolled": true
   },
   "outputs": [
    {
     "data": {
      "text/plain": [
       "OrderedDict([(0,\n",
       "              {'boxes': [<matplotlib.lines.Line2D at 0x10f788d0>],\n",
       "               'caps': [<matplotlib.lines.Line2D at 0x14618470>,\n",
       "                <matplotlib.lines.Line2D at 0x15237828>],\n",
       "               'fliers': [<matplotlib.lines.Line2D at 0x15d89cf8>],\n",
       "               'means': [],\n",
       "               'medians': [<matplotlib.lines.Line2D at 0x1484c198>],\n",
       "               'whiskers': [<matplotlib.lines.Line2D at 0x1451f518>,\n",
       "                <matplotlib.lines.Line2D at 0x11489940>]}),\n",
       "             (1,\n",
       "              {'boxes': [<matplotlib.lines.Line2D at 0x159456a0>],\n",
       "               'caps': [<matplotlib.lines.Line2D at 0x1525b2e8>,\n",
       "                <matplotlib.lines.Line2D at 0x15339cc0>],\n",
       "               'fliers': [<matplotlib.lines.Line2D at 0x164244a8>],\n",
       "               'means': [],\n",
       "               'medians': [<matplotlib.lines.Line2D at 0x16435ba8>],\n",
       "               'whiskers': [<matplotlib.lines.Line2D at 0x16090eb8>,\n",
       "                <matplotlib.lines.Line2D at 0x1524f0b8>]})])"
      ]
     },
     "execution_count": 236,
     "metadata": {},
     "output_type": "execute_result"
    },
    {
     "data": {
      "image/png": "[encoded data removed]",
      "text/plain": [
       "<matplotlib.figure.Figure at 0x16235128>"
      ]
     },
     "metadata": {},
     "output_type": "display_data"
    }
   ],
   "source": [
    "auto.groupby('LossClass').boxplot(column=\"Age\")"
   ]
  },
  {
   "cell_type": "code",
   "execution_count": 238,
   "metadata": {
    "collapsed": false
   },
   "outputs": [
    {
     "data": {
      "text/plain": [
       "<matplotlib.axes._subplots.AxesSubplot at 0x1668d748>"
      ]
     },
     "execution_count": 238,
     "metadata": {},
     "output_type": "execute_result"
    },
    {
     "data": {
      "image/png": "[encoded data removed]",
      "text/plain": [
       "<matplotlib.figure.Figure at 0x10db8828>"
      ]
     },
     "metadata": {},
     "output_type": "display_data"
    }
   ],
   "source": [
    "auto.boxplot(column=\"exp\", by = \"LossClass\")"
   ]
  },
  {
   "cell_type": "code",
   "execution_count": 203,
   "metadata": {
    "collapsed": false,
    "scrolled": true
   },
   "outputs": [
    {
     "data": {
      "text/html": [
       "<div>\n",
       "<table border=\"1\" class=\"dataframe\">\n",
       "  <thead>\n",
       "    <tr style=\"text-align: right;\">\n",
       "      <th>Gender</th>\n",
       "      <th>F</th>\n",
       "      <th>M</th>\n",
       "    </tr>\n",
       "    <tr>\n",
       "      <th>LossClass</th>\n",
       "      <th></th>\n",
       "      <th></th>\n",
       "    </tr>\n",
       "  </thead>\n",
       "  <tbody>\n",
       "    <tr>\n",
       "      <th>0</th>\n",
       "      <td>293</td>\n",
       "      <td>2735</td>\n",
       "    </tr>\n",
       "    <tr>\n",
       "      <th>1</th>\n",
       "      <td>165</td>\n",
       "      <td>1040</td>\n",
       "    </tr>\n",
       "  </tbody>\n",
       "</table>\n",
       "</div>"
      ],
      "text/plain": [
       "Gender       F     M\n",
       "LossClass           \n",
       "0          293  2735\n",
       "1          165  1040"
      ]
     },
     "execution_count": 203,
     "metadata": {},
     "output_type": "execute_result"
    }
   ],
   "source": [
    "auto['Gender'] = auto['Gender'].map(lambda x: 'F' if x == u'女'else 'M')\n",
    "pd.crosstab(auto['LossClass'], auto['Gender'], rownames=['LossClass'])"
   ]
  },
  {
   "cell_type": "code",
   "execution_count": 205,
   "metadata": {
    "collapsed": false,
    "scrolled": true
   },
   "outputs": [
    {
     "data": {
      "image/png": "[encoded data removed]",
      "text/plain": [
       "<matplotlib.figure.Figure at 0xf017e48>"
      ]
     },
     "metadata": {},
     "output_type": "display_data"
    }
   ],
   "source": [
    "from statsmodels.graphics.mosaicplot import mosaic\n",
    "import pylab\n",
    "mosaic(auto,['Gender','LossClass'])\n",
    "pylab.show()"
   ]
  },
  {
   "cell_type": "code",
   "execution_count": 108,
   "metadata": {
    "collapsed": false,
    "scrolled": true
   },
   "outputs": [
    {
     "data": {
      "text/html": [
       "<div>\n",
       "<table border=\"1\" class=\"dataframe\">\n",
       "  <thead>\n",
       "    <tr style=\"text-align: right;\">\n",
       "      <th></th>\n",
       "      <th>EngSize</th>\n",
       "      <th>Age</th>\n",
       "      <th>Gender</th>\n",
       "      <th>Marital</th>\n",
       "      <th>exp</th>\n",
       "      <th>Owner</th>\n",
       "      <th>vAge</th>\n",
       "      <th>Garage</th>\n",
       "      <th>AntiTFD</th>\n",
       "      <th>import</th>\n",
       "      <th>Loss</th>\n",
       "      <th>LossClass</th>\n",
       "      <th>vAgeNew</th>\n",
       "      <th>EngType</th>\n",
       "      <th>Intercept</th>\n",
       "    </tr>\n",
       "  </thead>\n",
       "  <tbody>\n",
       "    <tr>\n",
       "      <th>0</th>\n",
       "      <td>2.0</td>\n",
       "      <td>56</td>\n",
       "      <td>0</td>\n",
       "      <td>1</td>\n",
       "      <td>20</td>\n",
       "      <td>1</td>\n",
       "      <td>10</td>\n",
       "      <td>1</td>\n",
       "      <td>1</td>\n",
       "      <td>1</td>\n",
       "      <td>0.0</td>\n",
       "      <td>0</td>\n",
       "      <td>0</td>\n",
       "      <td>1</td>\n",
       "      <td>1.0</td>\n",
       "    </tr>\n",
       "    <tr>\n",
       "      <th>1</th>\n",
       "      <td>1.8</td>\n",
       "      <td>41</td>\n",
       "      <td>0</td>\n",
       "      <td>1</td>\n",
       "      <td>20</td>\n",
       "      <td>1</td>\n",
       "      <td>9</td>\n",
       "      <td>1</td>\n",
       "      <td>0</td>\n",
       "      <td>0</td>\n",
       "      <td>0.0</td>\n",
       "      <td>0</td>\n",
       "      <td>0</td>\n",
       "      <td>1</td>\n",
       "      <td>1.0</td>\n",
       "    </tr>\n",
       "    <tr>\n",
       "      <th>2</th>\n",
       "      <td>2.0</td>\n",
       "      <td>44</td>\n",
       "      <td>0</td>\n",
       "      <td>0</td>\n",
       "      <td>20</td>\n",
       "      <td>1</td>\n",
       "      <td>8</td>\n",
       "      <td>1</td>\n",
       "      <td>1</td>\n",
       "      <td>0</td>\n",
       "      <td>0.0</td>\n",
       "      <td>0</td>\n",
       "      <td>0</td>\n",
       "      <td>1</td>\n",
       "      <td>1.0</td>\n",
       "    </tr>\n",
       "    <tr>\n",
       "      <th>3</th>\n",
       "      <td>1.6</td>\n",
       "      <td>56</td>\n",
       "      <td>0</td>\n",
       "      <td>1</td>\n",
       "      <td>20</td>\n",
       "      <td>1</td>\n",
       "      <td>7</td>\n",
       "      <td>1</td>\n",
       "      <td>1</td>\n",
       "      <td>0</td>\n",
       "      <td>0.0</td>\n",
       "      <td>0</td>\n",
       "      <td>0</td>\n",
       "      <td>0</td>\n",
       "      <td>1.0</td>\n",
       "    </tr>\n",
       "    <tr>\n",
       "      <th>4</th>\n",
       "      <td>1.8</td>\n",
       "      <td>45</td>\n",
       "      <td>0</td>\n",
       "      <td>1</td>\n",
       "      <td>20</td>\n",
       "      <td>1</td>\n",
       "      <td>7</td>\n",
       "      <td>0</td>\n",
       "      <td>0</td>\n",
       "      <td>0</td>\n",
       "      <td>0.0</td>\n",
       "      <td>0</td>\n",
       "      <td>0</td>\n",
       "      <td>1</td>\n",
       "      <td>1.0</td>\n",
       "    </tr>\n",
       "  </tbody>\n",
       "</table>\n",
       "</div>"
      ],
      "text/plain": [
       "   EngSize  Age  Gender  Marital  exp  Owner  vAge  Garage  AntiTFD  import  \\\n",
       "0      2.0   56       0        1   20      1    10       1        1       1   \n",
       "1      1.8   41       0        1   20      1     9       1        0       0   \n",
       "2      2.0   44       0        0   20      1     8       1        1       0   \n",
       "3      1.6   56       0        1   20      1     7       1        1       0   \n",
       "4      1.8   45       0        1   20      1     7       0        0       0   \n",
       "\n",
       "   Loss  LossClass  vAgeNew  EngType  Intercept  \n",
       "0   0.0          0        0        1        1.0  \n",
       "1   0.0          0        0        1        1.0  \n",
       "2   0.0          0        0        1        1.0  \n",
       "3   0.0          0        0        0        1.0  \n",
       "4   0.0          0        0        1        1.0  "
      ]
     },
     "execution_count": 108,
     "metadata": {},
     "output_type": "execute_result"
    }
   ],
   "source": [
    "# 二分类变量的转换\n",
    "auto['Gender'] = auto['Gender'].map(lambda x: 1 if x == u'女'else 0)\n",
    "\n",
    "auto['Marital'] = auto['Marital'].map(lambda x: 1 if x == u'已婚' else 0)\n",
    "\n",
    "auto['Garage'] = auto['Garage'].map(lambda x: 1 if x == u'有'else 0)\n",
    "\n",
    "auto['AntiTFD'] = auto['AntiTFD'].map(lambda x: 1 if x == u'有防盗装置'else 0)\n",
    "\n",
    "auto['import'] = auto['import'].map(lambda x: 1 if x == u'进口'else 0)\n",
    "\n",
    "\n",
    "# 变量取值的转换\n",
    "\n",
    "auto['vAgeNew'] = auto['vAge'].map(lambda x: 1 if x == 1 else 0)\n",
    "\n",
    "auto['EngType'] = auto['EngSize'].map(lambda x: 1 if x >1.6 else 0)\n",
    "\n",
    "auto['Owner'] = auto['Owner'].replace({u'公司':1, u'私人':2, u'政府':3})\n",
    "\n",
    "auto['Intercept'] = 1.0\n",
    "\n",
    "# 另一种写法\n",
    "# auto['Owner'] = auto['Owner'].replace([u'公司', u'私人', u'政府'],[1,2,3])\n",
    "\n",
    "auto.head()"
   ]
  },
  {
   "cell_type": "code",
   "execution_count": 109,
   "metadata": {
    "collapsed": false,
    "scrolled": true
   },
   "outputs": [
    {
     "data": {
      "text/html": [
       "<div>\n",
       "<table border=\"1\" class=\"dataframe\">\n",
       "  <thead>\n",
       "    <tr style=\"text-align: right;\">\n",
       "      <th></th>\n",
       "      <th>Owner_1</th>\n",
       "      <th>Owner_2</th>\n",
       "      <th>Owner_3</th>\n",
       "    </tr>\n",
       "  </thead>\n",
       "  <tbody>\n",
       "    <tr>\n",
       "      <th>0</th>\n",
       "      <td>1.0</td>\n",
       "      <td>0.0</td>\n",
       "      <td>0.0</td>\n",
       "    </tr>\n",
       "    <tr>\n",
       "      <th>1</th>\n",
       "      <td>1.0</td>\n",
       "      <td>0.0</td>\n",
       "      <td>0.0</td>\n",
       "    </tr>\n",
       "    <tr>\n",
       "      <th>2</th>\n",
       "      <td>1.0</td>\n",
       "      <td>0.0</td>\n",
       "      <td>0.0</td>\n",
       "    </tr>\n",
       "    <tr>\n",
       "      <th>3</th>\n",
       "      <td>1.0</td>\n",
       "      <td>0.0</td>\n",
       "      <td>0.0</td>\n",
       "    </tr>\n",
       "    <tr>\n",
       "      <th>4</th>\n",
       "      <td>1.0</td>\n",
       "      <td>0.0</td>\n",
       "      <td>0.0</td>\n",
       "    </tr>\n",
       "  </tbody>\n",
       "</table>\n",
       "</div>"
      ],
      "text/plain": [
       "   Owner_1  Owner_2  Owner_3\n",
       "0      1.0      0.0      0.0\n",
       "1      1.0      0.0      0.0\n",
       "2      1.0      0.0      0.0\n",
       "3      1.0      0.0      0.0\n",
       "4      1.0      0.0      0.0"
      ]
     },
     "execution_count": 109,
     "metadata": {},
     "output_type": "execute_result"
    }
   ],
   "source": [
    "owner_ranks = pd.get_dummies(auto['Owner'], prefix='Owner')\n",
    "owner_ranks.head()"
   ]
  },
  {
   "cell_type": "code",
   "execution_count": 110,
   "metadata": {
    "collapsed": false,
    "scrolled": true
   },
   "outputs": [
    {
     "data": {
      "text/plain": [
       "Index([  u'EngSize',       u'Age',    u'Gender',   u'Marital',       u'exp',\n",
       "           u'Owner',      u'vAge',    u'Garage',   u'AntiTFD',    u'import',\n",
       "            u'Loss', u'LossClass',   u'vAgeNew',   u'EngType', u'Intercept'],\n",
       "      dtype='object')"
      ]
     },
     "execution_count": 110,
     "metadata": {},
     "output_type": "execute_result"
    }
   ],
   "source": [
    "auto.columns"
   ]
  },
  {
   "cell_type": "code",
   "execution_count": 146,
   "metadata": {
    "collapsed": false,
    "scrolled": false
   },
   "outputs": [
    {
     "data": {
      "text/html": [
       "<div>\n",
       "<table border=\"1\" class=\"dataframe\">\n",
       "  <thead>\n",
       "    <tr style=\"text-align: right;\">\n",
       "      <th></th>\n",
       "      <th>LossClass</th>\n",
       "      <th>Intercept</th>\n",
       "      <th>Age</th>\n",
       "      <th>Gender</th>\n",
       "      <th>Marital</th>\n",
       "      <th>exp</th>\n",
       "      <th>vAgeNew</th>\n",
       "      <th>Garage</th>\n",
       "      <th>AntiTFD</th>\n",
       "      <th>import</th>\n",
       "      <th>EngType</th>\n",
       "      <th>Owner_2</th>\n",
       "      <th>Owner_3</th>\n",
       "    </tr>\n",
       "  </thead>\n",
       "  <tbody>\n",
       "    <tr>\n",
       "      <th>0</th>\n",
       "      <td>0</td>\n",
       "      <td>1.0</td>\n",
       "      <td>56</td>\n",
       "      <td>0</td>\n",
       "      <td>1</td>\n",
       "      <td>20</td>\n",
       "      <td>0</td>\n",
       "      <td>1</td>\n",
       "      <td>1</td>\n",
       "      <td>1</td>\n",
       "      <td>1</td>\n",
       "      <td>0.0</td>\n",
       "      <td>0.0</td>\n",
       "    </tr>\n",
       "    <tr>\n",
       "      <th>1</th>\n",
       "      <td>0</td>\n",
       "      <td>1.0</td>\n",
       "      <td>41</td>\n",
       "      <td>0</td>\n",
       "      <td>1</td>\n",
       "      <td>20</td>\n",
       "      <td>0</td>\n",
       "      <td>1</td>\n",
       "      <td>0</td>\n",
       "      <td>0</td>\n",
       "      <td>1</td>\n",
       "      <td>0.0</td>\n",
       "      <td>0.0</td>\n",
       "    </tr>\n",
       "    <tr>\n",
       "      <th>2</th>\n",
       "      <td>0</td>\n",
       "      <td>1.0</td>\n",
       "      <td>44</td>\n",
       "      <td>0</td>\n",
       "      <td>0</td>\n",
       "      <td>20</td>\n",
       "      <td>0</td>\n",
       "      <td>1</td>\n",
       "      <td>1</td>\n",
       "      <td>0</td>\n",
       "      <td>1</td>\n",
       "      <td>0.0</td>\n",
       "      <td>0.0</td>\n",
       "    </tr>\n",
       "    <tr>\n",
       "      <th>3</th>\n",
       "      <td>0</td>\n",
       "      <td>1.0</td>\n",
       "      <td>56</td>\n",
       "      <td>0</td>\n",
       "      <td>1</td>\n",
       "      <td>20</td>\n",
       "      <td>0</td>\n",
       "      <td>1</td>\n",
       "      <td>1</td>\n",
       "      <td>0</td>\n",
       "      <td>0</td>\n",
       "      <td>0.0</td>\n",
       "      <td>0.0</td>\n",
       "    </tr>\n",
       "    <tr>\n",
       "      <th>4</th>\n",
       "      <td>0</td>\n",
       "      <td>1.0</td>\n",
       "      <td>45</td>\n",
       "      <td>0</td>\n",
       "      <td>1</td>\n",
       "      <td>20</td>\n",
       "      <td>0</td>\n",
       "      <td>0</td>\n",
       "      <td>0</td>\n",
       "      <td>0</td>\n",
       "      <td>1</td>\n",
       "      <td>0.0</td>\n",
       "      <td>0.0</td>\n",
       "    </tr>\n",
       "  </tbody>\n",
       "</table>\n",
       "</div>"
      ],
      "text/plain": [
       "   LossClass  Intercept  Age  Gender  Marital  exp  vAgeNew  Garage  AntiTFD  \\\n",
       "0          0        1.0   56       0        1   20        0       1        1   \n",
       "1          0        1.0   41       0        1   20        0       1        0   \n",
       "2          0        1.0   44       0        0   20        0       1        1   \n",
       "3          0        1.0   56       0        1   20        0       1        1   \n",
       "4          0        1.0   45       0        1   20        0       0        0   \n",
       "\n",
       "   import  EngType  Owner_2  Owner_3  \n",
       "0       1        1      0.0      0.0  \n",
       "1       0        1      0.0      0.0  \n",
       "2       0        1      0.0      0.0  \n",
       "3       0        0      0.0      0.0  \n",
       "4       0        1      0.0      0.0  "
      ]
     },
     "execution_count": 146,
     "metadata": {},
     "output_type": "execute_result"
    }
   ],
   "source": [
    "cols_to_keep = ['LossClass','Intercept', 'Age', 'Gender','Marital','exp',\\\n",
    "                'vAgeNew','Garage','AntiTFD','import','EngType' ]\n",
    "                 \n",
    "auto = auto[cols_to_keep].join(owner_ranks.ix[:, 'Owner_2':])\n",
    "\n",
    "auto.head()"
   ]
  },
  {
   "cell_type": "code",
   "execution_count": 113,
   "metadata": {
    "collapsed": false,
    "scrolled": true
   },
   "outputs": [
    {
     "name": "stdout",
     "output_type": "stream",
     "text": [
      "Optimization terminated successfully.\n",
      "         Current function value: 0.577894\n",
      "         Iterations 6\n"
     ]
    },
    {
     "data": {
      "text/html": [
       "<table class=\"simpletable\">\n",
       "<caption>Logit Regression Results</caption>\n",
       "<tr>\n",
       "  <th>Dep. Variable:</th>     <td>LossClass</td>    <th>  No. Observations:  </th>  <td>  4233</td>  \n",
       "</tr>\n",
       "<tr>\n",
       "  <th>Model:</th>               <td>Logit</td>      <th>  Df Residuals:      </th>  <td>  4221</td>  \n",
       "</tr>\n",
       "<tr>\n",
       "  <th>Method:</th>               <td>MLE</td>       <th>  Df Model:          </th>  <td>    11</td>  \n",
       "</tr>\n",
       "<tr>\n",
       "  <th>Date:</th>          <td>Fri, 17 Feb 2017</td> <th>  Pseudo R-squ.:     </th>  <td>0.03250</td> \n",
       "</tr>\n",
       "<tr>\n",
       "  <th>Time:</th>              <td>14:31:57</td>     <th>  Log-Likelihood:    </th> <td> -2446.2</td> \n",
       "</tr>\n",
       "<tr>\n",
       "  <th>converged:</th>           <td>True</td>       <th>  LL-Null:           </th> <td> -2528.4</td> \n",
       "</tr>\n",
       "<tr>\n",
       "  <th> </th>                      <td> </td>        <th>  LLR p-value:       </th> <td>1.702e-29</td>\n",
       "</tr>\n",
       "</table>\n",
       "<table class=\"simpletable\">\n",
       "<tr>\n",
       "      <td></td>         <th>coef</th>     <th>std err</th>      <th>z</th>      <th>P>|z|</th> <th>[95.0% Conf. Int.]</th> \n",
       "</tr>\n",
       "<tr>\n",
       "  <th>Intercept</th> <td>   -1.1732</td> <td>    0.249</td> <td>   -4.715</td> <td> 0.000</td> <td>   -1.661    -0.686</td>\n",
       "</tr>\n",
       "<tr>\n",
       "  <th>Age</th>       <td>   -0.0039</td> <td>    0.005</td> <td>   -0.754</td> <td> 0.451</td> <td>   -0.014     0.006</td>\n",
       "</tr>\n",
       "<tr>\n",
       "  <th>Gender</th>    <td>    0.1688</td> <td>    0.107</td> <td>    1.573</td> <td> 0.116</td> <td>   -0.042     0.379</td>\n",
       "</tr>\n",
       "<tr>\n",
       "  <th>Marital</th>   <td>    0.0437</td> <td>    0.166</td> <td>    0.263</td> <td> 0.792</td> <td>   -0.282     0.370</td>\n",
       "</tr>\n",
       "<tr>\n",
       "  <th>exp</th>       <td>   -0.0274</td> <td>    0.009</td> <td>   -3.044</td> <td> 0.002</td> <td>   -0.045    -0.010</td>\n",
       "</tr>\n",
       "<tr>\n",
       "  <th>vAgeNew</th>   <td>    0.3594</td> <td>    0.075</td> <td>    4.766</td> <td> 0.000</td> <td>    0.212     0.507</td>\n",
       "</tr>\n",
       "<tr>\n",
       "  <th>Garage</th>    <td>    0.2222</td> <td>    0.101</td> <td>    2.208</td> <td> 0.027</td> <td>    0.025     0.419</td>\n",
       "</tr>\n",
       "<tr>\n",
       "  <th>AntiTFD</th>   <td>    0.0865</td> <td>    0.084</td> <td>    1.033</td> <td> 0.302</td> <td>   -0.078     0.251</td>\n",
       "</tr>\n",
       "<tr>\n",
       "  <th>import</th>    <td>    0.1492</td> <td>    0.080</td> <td>    1.854</td> <td> 0.064</td> <td>   -0.009     0.307</td>\n",
       "</tr>\n",
       "<tr>\n",
       "  <th>EngType</th>   <td>   -0.3098</td> <td>    0.078</td> <td>   -3.959</td> <td> 0.000</td> <td>   -0.463    -0.156</td>\n",
       "</tr>\n",
       "<tr>\n",
       "  <th>Owner_2</th>   <td>    0.3556</td> <td>    0.099</td> <td>    3.588</td> <td> 0.000</td> <td>    0.161     0.550</td>\n",
       "</tr>\n",
       "<tr>\n",
       "  <th>Owner_3</th>   <td>   -0.3376</td> <td>    0.179</td> <td>   -1.883</td> <td> 0.060</td> <td>   -0.689     0.014</td>\n",
       "</tr>\n",
       "</table>"
      ],
      "text/plain": [
       "<class 'statsmodels.iolib.summary.Summary'>\n",
       "\"\"\"\n",
       "                           Logit Regression Results                           \n",
       "==============================================================================\n",
       "Dep. Variable:              LossClass   No. Observations:                 4233\n",
       "Model:                          Logit   Df Residuals:                     4221\n",
       "Method:                           MLE   Df Model:                           11\n",
       "Date:                Fri, 17 Feb 2017   Pseudo R-squ.:                 0.03250\n",
       "Time:                        14:31:57   Log-Likelihood:                -2446.2\n",
       "converged:                       True   LL-Null:                       -2528.4\n",
       "                                        LLR p-value:                 1.702e-29\n",
       "==============================================================================\n",
       "                 coef    std err          z      P>|z|      [95.0% Conf. Int.]\n",
       "------------------------------------------------------------------------------\n",
       "Intercept     -1.1732      0.249     -4.715      0.000        -1.661    -0.686\n",
       "Age           -0.0039      0.005     -0.754      0.451        -0.014     0.006\n",
       "Gender         0.1688      0.107      1.573      0.116        -0.042     0.379\n",
       "Marital        0.0437      0.166      0.263      0.792        -0.282     0.370\n",
       "exp           -0.0274      0.009     -3.044      0.002        -0.045    -0.010\n",
       "vAgeNew        0.3594      0.075      4.766      0.000         0.212     0.507\n",
       "Garage         0.2222      0.101      2.208      0.027         0.025     0.419\n",
       "AntiTFD        0.0865      0.084      1.033      0.302        -0.078     0.251\n",
       "import         0.1492      0.080      1.854      0.064        -0.009     0.307\n",
       "EngType       -0.3098      0.078     -3.959      0.000        -0.463    -0.156\n",
       "Owner_2        0.3556      0.099      3.588      0.000         0.161     0.550\n",
       "Owner_3       -0.3376      0.179     -1.883      0.060        -0.689     0.014\n",
       "==============================================================================\n",
       "\"\"\""
      ]
     },
     "execution_count": 113,
     "metadata": {},
     "output_type": "execute_result"
    }
   ],
   "source": [
    "# 方法一： 用statsmodels库\n",
    "\n",
    "import statsmodels.api as sm\n",
    "\n",
    "train_cols = auto.columns[1:]\n",
    "\n",
    "logit = sm.Logit(auto['LossClass'], auto[train_cols])\n",
    "\n",
    "# fit the model\n",
    "result = logit.fit()\n",
    "result.summary()"
   ]
  },
  {
   "cell_type": "code",
   "execution_count": 114,
   "metadata": {
    "collapsed": false,
    "scrolled": false
   },
   "outputs": [
    {
     "data": {
      "text/plain": [
       "Intercept    0.309390\n",
       "Age          0.996138\n",
       "Gender       1.183897\n",
       "Marital      1.044713\n",
       "exp          0.972953\n",
       "vAgeNew      1.432507\n",
       "Garage       1.248788\n",
       "AntiTFD      1.090336\n",
       "import       1.160933\n",
       "EngType      0.733585\n",
       "Owner_2      1.427002\n",
       "Owner_3      0.713508\n",
       "dtype: float64"
      ]
     },
     "execution_count": 114,
     "metadata": {},
     "output_type": "execute_result"
    }
   ],
   "source": [
    "np.exp(result.params)"
   ]
  },
  {
   "cell_type": "code",
   "execution_count": 115,
   "metadata": {
    "collapsed": false
   },
   "outputs": [],
   "source": [
    "y = auto['LossClass']\n",
    "X = auto.iloc[:,1:]"
   ]
  },
  {
   "cell_type": "code",
   "execution_count": 116,
   "metadata": {
    "collapsed": false,
    "scrolled": false
   },
   "outputs": [
    {
     "data": {
      "text/html": [
       "<div>\n",
       "<table border=\"1\" class=\"dataframe\">\n",
       "  <thead>\n",
       "    <tr style=\"text-align: right;\">\n",
       "      <th></th>\n",
       "      <th>Intercept</th>\n",
       "      <th>Age</th>\n",
       "      <th>Gender</th>\n",
       "      <th>Marital</th>\n",
       "      <th>exp</th>\n",
       "      <th>vAgeNew</th>\n",
       "      <th>Garage</th>\n",
       "      <th>AntiTFD</th>\n",
       "      <th>import</th>\n",
       "      <th>EngType</th>\n",
       "      <th>Owner_2</th>\n",
       "      <th>Owner_3</th>\n",
       "    </tr>\n",
       "  </thead>\n",
       "  <tbody>\n",
       "    <tr>\n",
       "      <th>0</th>\n",
       "      <td>1.0</td>\n",
       "      <td>56</td>\n",
       "      <td>0</td>\n",
       "      <td>1</td>\n",
       "      <td>20</td>\n",
       "      <td>0</td>\n",
       "      <td>1</td>\n",
       "      <td>1</td>\n",
       "      <td>1</td>\n",
       "      <td>1</td>\n",
       "      <td>0.0</td>\n",
       "      <td>0.0</td>\n",
       "    </tr>\n",
       "    <tr>\n",
       "      <th>1</th>\n",
       "      <td>1.0</td>\n",
       "      <td>41</td>\n",
       "      <td>0</td>\n",
       "      <td>1</td>\n",
       "      <td>20</td>\n",
       "      <td>0</td>\n",
       "      <td>1</td>\n",
       "      <td>0</td>\n",
       "      <td>0</td>\n",
       "      <td>1</td>\n",
       "      <td>0.0</td>\n",
       "      <td>0.0</td>\n",
       "    </tr>\n",
       "    <tr>\n",
       "      <th>2</th>\n",
       "      <td>1.0</td>\n",
       "      <td>44</td>\n",
       "      <td>0</td>\n",
       "      <td>0</td>\n",
       "      <td>20</td>\n",
       "      <td>0</td>\n",
       "      <td>1</td>\n",
       "      <td>1</td>\n",
       "      <td>0</td>\n",
       "      <td>1</td>\n",
       "      <td>0.0</td>\n",
       "      <td>0.0</td>\n",
       "    </tr>\n",
       "    <tr>\n",
       "      <th>3</th>\n",
       "      <td>1.0</td>\n",
       "      <td>56</td>\n",
       "      <td>0</td>\n",
       "      <td>1</td>\n",
       "      <td>20</td>\n",
       "      <td>0</td>\n",
       "      <td>1</td>\n",
       "      <td>1</td>\n",
       "      <td>0</td>\n",
       "      <td>0</td>\n",
       "      <td>0.0</td>\n",
       "      <td>0.0</td>\n",
       "    </tr>\n",
       "    <tr>\n",
       "      <th>4</th>\n",
       "      <td>1.0</td>\n",
       "      <td>45</td>\n",
       "      <td>0</td>\n",
       "      <td>1</td>\n",
       "      <td>20</td>\n",
       "      <td>0</td>\n",
       "      <td>0</td>\n",
       "      <td>0</td>\n",
       "      <td>0</td>\n",
       "      <td>1</td>\n",
       "      <td>0.0</td>\n",
       "      <td>0.0</td>\n",
       "    </tr>\n",
       "  </tbody>\n",
       "</table>\n",
       "</div>"
      ],
      "text/plain": [
       "   Intercept  Age  Gender  Marital  exp  vAgeNew  Garage  AntiTFD  import  \\\n",
       "0        1.0   56       0        1   20        0       1        1       1   \n",
       "1        1.0   41       0        1   20        0       1        0       0   \n",
       "2        1.0   44       0        0   20        0       1        1       0   \n",
       "3        1.0   56       0        1   20        0       1        1       0   \n",
       "4        1.0   45       0        1   20        0       0        0       0   \n",
       "\n",
       "   EngType  Owner_2  Owner_3  \n",
       "0        1      0.0      0.0  \n",
       "1        1      0.0      0.0  \n",
       "2        1      0.0      0.0  \n",
       "3        0      0.0      0.0  \n",
       "4        1      0.0      0.0  "
      ]
     },
     "execution_count": 116,
     "metadata": {},
     "output_type": "execute_result"
    }
   ],
   "source": [
    "X.head()"
   ]
  },
  {
   "cell_type": "code",
   "execution_count": 130,
   "metadata": {
    "collapsed": false
   },
   "outputs": [],
   "source": [
    "from sklearn.linear_model import LogisticRegression   \n",
    "  \n",
    "# 使用类，参数全是默认的  \n",
    "classifier = LogisticRegression(fit_intercept = False, C = 1e9)  \n",
    "model = classifier.fit(X, y)               # 训练数据来学习 "
   ]
  },
  {
   "cell_type": "code",
   "execution_count": 131,
   "metadata": {
    "collapsed": false,
    "scrolled": false
   },
   "outputs": [
    {
     "data": {
      "text/html": [
       "<div>\n",
       "<table border=\"1\" class=\"dataframe\">\n",
       "  <thead>\n",
       "    <tr style=\"text-align: right;\">\n",
       "      <th></th>\n",
       "      <th>0</th>\n",
       "      <th>1</th>\n",
       "    </tr>\n",
       "  </thead>\n",
       "  <tbody>\n",
       "    <tr>\n",
       "      <th>0</th>\n",
       "      <td>Intercept</td>\n",
       "      <td>[-1.17201219762]</td>\n",
       "    </tr>\n",
       "    <tr>\n",
       "      <th>1</th>\n",
       "      <td>Age</td>\n",
       "      <td>[-0.00387487513768]</td>\n",
       "    </tr>\n",
       "    <tr>\n",
       "      <th>2</th>\n",
       "      <td>Gender</td>\n",
       "      <td>[0.168749482522]</td>\n",
       "    </tr>\n",
       "    <tr>\n",
       "      <th>3</th>\n",
       "      <td>Marital</td>\n",
       "      <td>[0.0426483824005]</td>\n",
       "    </tr>\n",
       "    <tr>\n",
       "      <th>4</th>\n",
       "      <td>exp</td>\n",
       "      <td>[-0.0274392357384]</td>\n",
       "    </tr>\n",
       "    <tr>\n",
       "      <th>5</th>\n",
       "      <td>vAgeNew</td>\n",
       "      <td>[0.359574982133]</td>\n",
       "    </tr>\n",
       "    <tr>\n",
       "      <th>6</th>\n",
       "      <td>Garage</td>\n",
       "      <td>[0.222504741606]</td>\n",
       "    </tr>\n",
       "    <tr>\n",
       "      <th>7</th>\n",
       "      <td>AntiTFD</td>\n",
       "      <td>[0.085725070572]</td>\n",
       "    </tr>\n",
       "    <tr>\n",
       "      <th>8</th>\n",
       "      <td>import</td>\n",
       "      <td>[0.149166509674]</td>\n",
       "    </tr>\n",
       "    <tr>\n",
       "      <th>9</th>\n",
       "      <td>EngType</td>\n",
       "      <td>[-0.309622730532]</td>\n",
       "    </tr>\n",
       "    <tr>\n",
       "      <th>10</th>\n",
       "      <td>Owner_2</td>\n",
       "      <td>[0.355423178004]</td>\n",
       "    </tr>\n",
       "    <tr>\n",
       "      <th>11</th>\n",
       "      <td>Owner_3</td>\n",
       "      <td>[-0.335957550198]</td>\n",
       "    </tr>\n",
       "  </tbody>\n",
       "</table>\n",
       "</div>"
      ],
      "text/plain": [
       "            0                    1\n",
       "0   Intercept     [-1.17201219762]\n",
       "1         Age  [-0.00387487513768]\n",
       "2      Gender     [0.168749482522]\n",
       "3     Marital    [0.0426483824005]\n",
       "4         exp   [-0.0274392357384]\n",
       "5     vAgeNew     [0.359574982133]\n",
       "6      Garage     [0.222504741606]\n",
       "7     AntiTFD     [0.085725070572]\n",
       "8      import     [0.149166509674]\n",
       "9     EngType    [-0.309622730532]\n",
       "10    Owner_2     [0.355423178004]\n",
       "11    Owner_3    [-0.335957550198]"
      ]
     },
     "execution_count": 131,
     "metadata": {},
     "output_type": "execute_result"
    }
   ],
   "source": [
    "pd.DataFrame(zip(X.columns, np.transpose(model.coef_)))"
   ]
  }
 ],
 "metadata": {
  "kernelspec": {
   "display_name": "Python 2",
   "language": "python",
   "name": "python2"
  },
  "language_info": {
   "codemirror_mode": {
    "name": "ipython",
    "version": 2
   },
   "file_extension": ".py",
   "mimetype": "text/x-python",
   "name": "python",
   "nbconvert_exporter": "python",
   "pygments_lexer": "ipython2",
   "version": "2.7.11"
  }
 },
 "nbformat": 4,
 "nbformat_minor": 0
}
