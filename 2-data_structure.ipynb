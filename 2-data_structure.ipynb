{
 "cells": [
  {
   "cell_type": "markdown",
   "metadata": {
    "slideshow": {
     "slide_type": "slide"
    }
   },
   "source": [
    "## 数据结构\n",
    "\n",
    "\n",
    "- **list**(列表): 支持插入，弹出，索引，切片等\n",
    "\n",
    "\n",
    "- **tuple**(元组): 一经创建不可修改\n",
    "\n",
    "\n",
    "- **set**(集合): 交集，并集等操作\n",
    "\n",
    "\n",
    "- **dict**(字典): 无序的key－val健值对\n",
    "\n",
    "\n",
    "以上四种结构也可以相互嵌套， **list** 和 **dict**是最常用的两个结构。"
   ]
  },
  {
   "cell_type": "markdown",
   "metadata": {
    "slideshow": {
     "slide_type": "slide"
    }
   },
   "source": [
    "## 列表操作"
   ]
  },
  {
   "cell_type": "markdown",
   "metadata": {},
   "source": [
    "### 列表创建"
   ]
  },
  {
   "cell_type": "code",
   "execution_count": 1,
   "metadata": {
    "collapsed": false
   },
   "outputs": [
    {
     "name": "stdout",
     "output_type": "stream",
     "text": [
      "[1, 1, 2, 3, 5, 8, 13, 21]\n",
      "['a', 'b', 'c', 'd']\n",
      "['a', 1, 'b', 2, 'c', 3, True, False]\n",
      "[[1, 1, 2, 3, 5, 8, 13, 21], ['a', 'b', 'c', 'd'], ['a', 1, 'b', 2, 'c', 3, True, False]]\n"
     ]
    }
   ],
   "source": [
    "fibonacci_numbers = [1, 1, 2, 3, 5, 8, 13, 21]\n",
    "print fibonacci_numbers\n",
    "\n",
    "\n",
    "strings = ['a', 'b', 'c', 'd']\n",
    "print strings\n",
    "\n",
    "# list内元素支持不同类型的数据；R中的vector要求是同类型的，不可混杂\n",
    "num_str_bool = ['a', 1, 'b', 2, 'c', 3, True, False]\n",
    "print num_str_bool\n",
    "\n",
    "# list嵌套\n",
    "print [fibonacci_numbers, strings, num_str_bool]"
   ]
  },
  {
   "cell_type": "markdown",
   "metadata": {
    "slideshow": {
     "slide_type": "subslide"
    }
   },
   "source": [
    "### 索引 & 切片\n",
    "\n",
    "Python的索引和切片都是**从0开始**."
   ]
  },
  {
   "cell_type": "code",
   "execution_count": 5,
   "metadata": {
    "collapsed": false
   },
   "outputs": [
    {
     "name": "stdout",
     "output_type": "stream",
     "text": [
      "[1, 1, 2, 3, 5, 8, 13, 21]\n",
      "第1个元素: 1\n",
      "第4个元素: 3\n",
      "前3个元素: [1, 1, 2]\n",
      "第4到最后: [3, 5, 8, 13, 21]\n"
     ]
    }
   ],
   "source": [
    "print fibonacci_numbers\n",
    "\n",
    "# 从0开始\n",
    "print '第1个元素:', fibonacci_numbers[0] # the first element\n",
    "print '第4个元素:', fibonacci_numbers[3] # the fourth element\n",
    "\n",
    "# 包含左侧，不包含右侧 \n",
    "print '前3个元素:', fibonacci_numbers[0:3] # 前三个元素 [0, 3)\n",
    "print '第4到最后:', fibonacci_numbers[3:] # 第4个到最后"
   ]
  },
  {
   "cell_type": "markdown",
   "metadata": {
    "slideshow": {
     "slide_type": "subslide"
    }
   },
   "source": [
    "### 添加/删除元素"
   ]
  },
  {
   "cell_type": "code",
   "execution_count": 5,
   "metadata": {
    "collapsed": false
   },
   "outputs": [
    {
     "name": "stdout",
     "output_type": "stream",
     "text": [
      "[1, 1, 2, 3, 5, 8, 13, 21, 34]\n",
      "[1, 1, 2, 3, 5, 8, 13, 21]\n"
     ]
    }
   ],
   "source": [
    "fibonacci_numbers.append(34) # add one more element\n",
    "print fibonacci_numbers\n",
    "\n",
    "fibonacci_numbers.pop()\n",
    "print fibonacci_numbers"
   ]
  },
  {
   "cell_type": "markdown",
   "metadata": {
    "slideshow": {
     "slide_type": "subslide"
    }
   },
   "source": [
    "### 列表推导式(list comprehension)\n",
    "\n",
    "**one line**版的循环，基于已有列表创建新列表。\n",
    "\n",
    "比使用for循环依次在空列表中添加新元素高效。"
   ]
  },
  {
   "cell_type": "code",
   "execution_count": 8,
   "metadata": {
    "collapsed": false
   },
   "outputs": [
    {
     "name": "stdout",
     "output_type": "stream",
     "text": [
      "[2, 2, 3, 4, 6, 9, 14, 22]\n"
     ]
    }
   ],
   "source": [
    "fibonacci_numbers_plus1 = [i + 1 for i in fibonacci_numbers]\n",
    "print fibonacci_numbers_plus1"
   ]
  },
  {
   "cell_type": "code",
   "execution_count": 13,
   "metadata": {
    "collapsed": false
   },
   "outputs": [
    {
     "name": "stdout",
     "output_type": "stream",
     "text": [
      "1000000 loops, best of 3: 763 ns per loop\n"
     ]
    }
   ],
   "source": [
    "%%timeit\n",
    "fibonacci_numbers_plus1 = [i + 1 for i in fibonacci_numbers]"
   ]
  },
  {
   "cell_type": "code",
   "execution_count": 12,
   "metadata": {
    "collapsed": false
   },
   "outputs": [
    {
     "name": "stdout",
     "output_type": "stream",
     "text": [
      "100000 loops, best of 3: 1.31 µs per loop\n"
     ]
    }
   ],
   "source": [
    "%%timeit\n",
    "fibonacci_numbers_plus1 = []\n",
    "for i in fibonacci_numbers:\n",
    "    fibonacci_numbers_plus1.append(i + 1) # append在list末尾插入元素，复杂度O(n)"
   ]
  },
  {
   "cell_type": "markdown",
   "metadata": {
    "slideshow": {
     "slide_type": "slide"
    }
   },
   "source": [
    "## 字典\n",
    "\n",
    "{key: value}的健－值对，从字典从取出某个健对应的值的复杂度为O(1)。"
   ]
  },
  {
   "cell_type": "code",
   "execution_count": 15,
   "metadata": {
    "collapsed": false
   },
   "outputs": [
    {
     "name": "stdout",
     "output_type": "stream",
     "text": [
      "{'age': 30, 'height': 6.1, 'sex': 'male'}\n",
      "male\n",
      "False\n",
      "python\n"
     ]
    }
   ],
   "source": [
    "someone = {'sex': 'male', 'height': 6.1, 'age': 30}\n",
    "print someone\n",
    "print someone['sex'] # 取出sex对应的值\n",
    "print 'location' in someone # 是否含有location这个健\n",
    "print someone.get('skill', 'python') # 取出skill健对应的值，不存在则返回'python'"
   ]
  },
  {
   "cell_type": "code",
   "execution_count": 16,
   "metadata": {
    "collapsed": false,
    "slideshow": {
     "slide_type": "fragment"
    }
   },
   "outputs": [
    {
     "name": "stdout",
     "output_type": "stream",
     "text": [
      "['age', 'height', 'sex']\n",
      "[30, 6.1, 'male']\n",
      "[('age', 30), ('height', 6.1), ('sex', 'male')]\n"
     ]
    }
   ],
   "source": [
    "print someone.keys() \n",
    "print someone.values()\n",
    "print someone.items() # 转为有序的list"
   ]
  },
  {
   "cell_type": "markdown",
   "metadata": {
    "slideshow": {
     "slide_type": "slide"
    }
   },
   "source": [
    "## 元组 & 集合"
   ]
  },
  {
   "cell_type": "code",
   "execution_count": 17,
   "metadata": {
    "collapsed": false
   },
   "outputs": [
    {
     "name": "stdout",
     "output_type": "stream",
     "text": [
      "<type 'tuple'>\n",
      "<type 'set'>\n"
     ]
    }
   ],
   "source": [
    "tuple_example = ('age', 30) # 只读，有序\n",
    "print type(tuple_example)\n",
    "\n",
    "\n",
    "set_example = {'age', 30}  # 无序，可写\n",
    "print type(set_example)"
   ]
  },
  {
   "cell_type": "code",
   "execution_count": 18,
   "metadata": {
    "collapsed": false
   },
   "outputs": [
    {
     "name": "stdout",
     "output_type": "stream",
     "text": [
      "[('age', 30), ('height', 6.1), ('sex', 'male')]\n"
     ]
    }
   ],
   "source": [
    "# tuple组成的list\n",
    "print someone.items() "
   ]
  },
  {
   "cell_type": "markdown",
   "metadata": {
    "slideshow": {
     "slide_type": "slide"
    }
   },
   "source": [
    "## 常用函数\n",
    "\n",
    "- map: 相当于R中的apply函数，对每个元素进行同样的函数操作\n",
    "\n",
    "\n",
    "- filter: 过滤\n",
    "\n",
    "\n",
    "- reduce: 聚合"
   ]
  },
  {
   "cell_type": "code",
   "execution_count": 19,
   "metadata": {
    "collapsed": false
   },
   "outputs": [
    {
     "data": {
      "text/plain": [
       "[2, 2, 3, 4, 6, 9, 14, 22]"
      ]
     },
     "execution_count": 19,
     "metadata": {},
     "output_type": "execute_result"
    }
   ],
   "source": [
    "map(lambda x: x+1, fibonacci_numbers) # 每个元素执行＋1的匿名函数"
   ]
  },
  {
   "cell_type": "code",
   "execution_count": 6,
   "metadata": {
    "collapsed": false
   },
   "outputs": [
    {
     "data": {
      "text/plain": [
       "[13, 21]"
      ]
     },
     "execution_count": 6,
     "metadata": {},
     "output_type": "execute_result"
    }
   ],
   "source": [
    "filter(lambda x: x % 2 == 0, fibonacci_numbers) # 过滤出偶数"
   ]
  },
  {
   "cell_type": "markdown",
   "metadata": {},
   "source": [
    "- python中的reduce内建函数是一个二元操作函数，他用来将一个数据集合（链表，元组等）中的所有数据进行下列操作：用传给reduce中的函数 func()（必须是一个二元操作函数）先对集合中的第1，2个数据进行操作，得到的结果再与第三个数据用func()函数运算，最后得到一个结果。"
   ]
  },
  {
   "cell_type": "code",
   "execution_count": 21,
   "metadata": {
    "collapsed": false
   },
   "outputs": [
    {
     "data": {
      "text/plain": [
       "54"
      ]
     },
     "execution_count": 21,
     "metadata": {},
     "output_type": "execute_result"
    }
   ],
   "source": [
    "reduce(lambda x,y: x+y, fibonacci_numbers) # 加法聚合"
   ]
  }
 ],
 "metadata": {
  "celltoolbar": "Slideshow",
  "kernelspec": {
   "display_name": "Python 2",
   "language": "python",
   "name": "python2"
  },
  "language_info": {
   "codemirror_mode": {
    "name": "ipython",
    "version": 2
   },
   "file_extension": ".py",
   "mimetype": "text/x-python",
   "name": "python",
   "nbconvert_exporter": "python",
   "pygments_lexer": "ipython2",
   "version": "2.7.11"
  }
 },
 "nbformat": 4,
 "nbformat_minor": 0
}
