{
 "cells": [
  {
   "cell_type": "markdown",
   "metadata": {
    "collapsed": true
   },
   "source": [
    "参考\n",
    "- <http://blog.yhat.com/posts/logistic-regression-python-rodeo.html>\n",
    "- <http://stats.stackexchange.com/questions/203740/logistic-regression-scikit-learn-vs-statsmodels>"
   ]
  },
  {
   "cell_type": "code",
   "execution_count": 39,
   "metadata": {
    "collapsed": true
   },
   "outputs": [],
   "source": [
    "import pandas as pd\n",
    "import numpy as np\n",
    "import matplotlib.pyplot as plt\n",
    "from matplotlib.font_manager import *  \n",
    "# 定义自定义字体，文件名从1.b查看系统中文字体中来  \n",
    "myfont = FontProperties(fname='/usr/share/fonts/wqy-zenhei/wqy-zenhei.ttc')  \n",
    "# 解决负号'-'显示为方块的问题  \n",
    "matplotlib.rcParams['axes.unicode_minus']=False"
   ]
  },
  {
   "cell_type": "code",
   "execution_count": 40,
   "metadata": {
    "collapsed": true
   },
   "outputs": [],
   "source": [
    "%matplotlib inline"
   ]
  },
  {
   "cell_type": "code",
   "execution_count": 41,
   "metadata": {
    "collapsed": false,
    "scrolled": true
   },
   "outputs": [
    {
     "data": {
      "text/html": [
       "<div>\n",
       "<table border=\"1\" class=\"dataframe\">\n",
       "  <thead>\n",
       "    <tr style=\"text-align: right;\">\n",
       "      <th></th>\n",
       "      <th>EngSize</th>\n",
       "      <th>Age</th>\n",
       "      <th>Gender</th>\n",
       "      <th>Marital</th>\n",
       "      <th>exp</th>\n",
       "      <th>Owner</th>\n",
       "      <th>vAge</th>\n",
       "      <th>Garage</th>\n",
       "      <th>AntiTFD</th>\n",
       "      <th>import</th>\n",
       "      <th>Loss</th>\n",
       "    </tr>\n",
       "  </thead>\n",
       "  <tbody>\n",
       "    <tr>\n",
       "      <th>0</th>\n",
       "      <td>2.0</td>\n",
       "      <td>56</td>\n",
       "      <td>男</td>\n",
       "      <td>已婚</td>\n",
       "      <td>20</td>\n",
       "      <td>公司</td>\n",
       "      <td>10</td>\n",
       "      <td>有</td>\n",
       "      <td>有防盗装置</td>\n",
       "      <td>进口</td>\n",
       "      <td>0.0</td>\n",
       "    </tr>\n",
       "    <tr>\n",
       "      <th>1</th>\n",
       "      <td>1.8</td>\n",
       "      <td>41</td>\n",
       "      <td>男</td>\n",
       "      <td>已婚</td>\n",
       "      <td>20</td>\n",
       "      <td>公司</td>\n",
       "      <td>9</td>\n",
       "      <td>有</td>\n",
       "      <td>无防盗装置</td>\n",
       "      <td>国产</td>\n",
       "      <td>0.0</td>\n",
       "    </tr>\n",
       "    <tr>\n",
       "      <th>2</th>\n",
       "      <td>2.0</td>\n",
       "      <td>44</td>\n",
       "      <td>男</td>\n",
       "      <td>未婚</td>\n",
       "      <td>20</td>\n",
       "      <td>公司</td>\n",
       "      <td>8</td>\n",
       "      <td>有</td>\n",
       "      <td>有防盗装置</td>\n",
       "      <td>国产</td>\n",
       "      <td>0.0</td>\n",
       "    </tr>\n",
       "    <tr>\n",
       "      <th>3</th>\n",
       "      <td>1.6</td>\n",
       "      <td>56</td>\n",
       "      <td>男</td>\n",
       "      <td>已婚</td>\n",
       "      <td>20</td>\n",
       "      <td>公司</td>\n",
       "      <td>7</td>\n",
       "      <td>有</td>\n",
       "      <td>有防盗装置</td>\n",
       "      <td>国产</td>\n",
       "      <td>0.0</td>\n",
       "    </tr>\n",
       "    <tr>\n",
       "      <th>4</th>\n",
       "      <td>1.8</td>\n",
       "      <td>45</td>\n",
       "      <td>男</td>\n",
       "      <td>已婚</td>\n",
       "      <td>20</td>\n",
       "      <td>公司</td>\n",
       "      <td>7</td>\n",
       "      <td>无</td>\n",
       "      <td>无防盗装置</td>\n",
       "      <td>国产</td>\n",
       "      <td>0.0</td>\n",
       "    </tr>\n",
       "  </tbody>\n",
       "</table>\n",
       "</div>"
      ],
      "text/plain": [
       "   EngSize  Age Gender Marital  exp Owner  vAge Garage AntiTFD import  Loss\n",
       "0      2.0   56      男      已婚   20    公司    10      有   有防盗装置     进口   0.0\n",
       "1      1.8   41      男      已婚   20    公司     9      有   无防盗装置     国产   0.0\n",
       "2      2.0   44      男      未婚   20    公司     8      有   有防盗装置     国产   0.0\n",
       "3      1.6   56      男      已婚   20    公司     7      有   有防盗装置     国产   0.0\n",
       "4      1.8   45      男      已婚   20    公司     7      无   无防盗装置     国产   0.0"
      ]
     },
     "execution_count": 41,
     "metadata": {},
     "output_type": "execute_result"
    }
   ],
   "source": [
    "auto = pd.read_csv('auto.csv',encoding = 'gb2312')\n",
    "auto.head()"
   ]
  },
  {
   "cell_type": "code",
   "execution_count": 42,
   "metadata": {
    "collapsed": true
   },
   "outputs": [],
   "source": [
    "# 变量取值的转换\n",
    "\n",
    "auto['LossClass'] = auto['Loss'].map(lambda x: 1 if x > 0 else 0)"
   ]
  },
  {
   "cell_type": "code",
   "execution_count": 43,
   "metadata": {
    "collapsed": false,
    "scrolled": true
   },
   "outputs": [
    {
     "data": {
      "text/plain": [
       "0         Axes(0.1,0.15;0.363636x0.75)\n",
       "1    Axes(0.536364,0.15;0.363636x0.75)\n",
       "dtype: object"
      ]
     },
     "execution_count": 43,
     "metadata": {},
     "output_type": "execute_result"
    },
    {
     "data": {
      "image/png": "[encoded data removed]",
      "text/plain": [
       "<matplotlib.figure.Figure at 0x7f100aee2eb8>"
      ]
     },
     "metadata": {},
     "output_type": "display_data"
    }
   ],
   "source": [
    "auto.groupby('LossClass').boxplot(column=\"Age\")    #箱型图 "
   ]
  },
  {
   "cell_type": "code",
   "execution_count": 44,
   "metadata": {
    "collapsed": false
   },
   "outputs": [
    {
     "data": {
      "text/plain": [
       "<matplotlib.axes._subplots.AxesSubplot at 0x7f100e717da0>"
      ]
     },
     "execution_count": 44,
     "metadata": {},
     "output_type": "execute_result"
    },
    {
     "data": {
      "image/png": "[encoded data removed]",
      "text/plain": [
       "<matplotlib.figure.Figure at 0x7f100ad35668>"
      ]
     },
     "metadata": {},
     "output_type": "display_data"
    }
   ],
   "source": [
    "auto.boxplot(column=\"exp\", by = \"LossClass\")"
   ]
  },
  {
   "cell_type": "markdown",
   "metadata": {},
   "source": [
    "# 作业: 车龄与是否出险的关系"
   ]
  },
  {
   "cell_type": "code",
   "execution_count": null,
   "metadata": {
    "collapsed": true
   },
   "outputs": [],
   "source": []
  },
  {
   "cell_type": "code",
   "execution_count": null,
   "metadata": {
    "collapsed": false
   },
   "outputs": [],
   "source": []
  },
  {
   "cell_type": "code",
   "execution_count": 45,
   "metadata": {
    "collapsed": false,
    "scrolled": true
   },
   "outputs": [
    {
     "data": {
      "text/html": [
       "<div>\n",
       "<table border=\"1\" class=\"dataframe\">\n",
       "  <thead>\n",
       "    <tr style=\"text-align: right;\">\n",
       "      <th>Gender</th>\n",
       "      <th>F</th>\n",
       "      <th>M</th>\n",
       "    </tr>\n",
       "    <tr>\n",
       "      <th>LossClass</th>\n",
       "      <th></th>\n",
       "      <th></th>\n",
       "    </tr>\n",
       "  </thead>\n",
       "  <tbody>\n",
       "    <tr>\n",
       "      <th>0</th>\n",
       "      <td>293</td>\n",
       "      <td>2735</td>\n",
       "    </tr>\n",
       "    <tr>\n",
       "      <th>1</th>\n",
       "      <td>165</td>\n",
       "      <td>1040</td>\n",
       "    </tr>\n",
       "  </tbody>\n",
       "</table>\n",
       "</div>"
      ],
      "text/plain": [
       "Gender       F     M\n",
       "LossClass           \n",
       "0          293  2735\n",
       "1          165  1040"
      ]
     },
     "execution_count": 45,
     "metadata": {},
     "output_type": "execute_result"
    }
   ],
   "source": [
    "auto['Gender'] = auto['Gender'].map(lambda x: 'F' if x == u'女'else 'M')\n",
    "pd.crosstab(auto['LossClass'], auto['Gender'], rownames=['LossClass'])"
   ]
  },
  {
   "cell_type": "code",
   "execution_count": 46,
   "metadata": {
    "collapsed": false,
    "scrolled": true
   },
   "outputs": [
    {
     "data": {
      "image/png": "[encoded data removed]",
      "text/plain": [
       "<matplotlib.figure.Figure at 0x7f100b06b9b0>"
      ]
     },
     "metadata": {},
     "output_type": "display_data"
    }
   ],
   "source": [
    "from statsmodels.graphics.mosaicplot import mosaic\n",
    "import pylab\n",
    "mosaic(auto,['Gender','LossClass'])                 #马赛克图\n",
    "pylab.show()"
   ]
  },
  {
   "cell_type": "markdown",
   "metadata": {},
   "source": [
    "# 作业，使用马赛克图分析想要的结果"
   ]
  },
  {
   "cell_type": "code",
   "execution_count": null,
   "metadata": {
    "collapsed": true
   },
   "outputs": [],
   "source": []
  },
  {
   "cell_type": "code",
   "execution_count": null,
   "metadata": {
    "collapsed": true
   },
   "outputs": [],
   "source": []
  },
  {
   "cell_type": "code",
   "execution_count": null,
   "metadata": {
    "collapsed": true
   },
   "outputs": [],
   "source": []
  },
  {
   "cell_type": "code",
   "execution_count": 47,
   "metadata": {
    "collapsed": false
   },
   "outputs": [
    {
     "data": {
      "text/html": [
       "<div>\n",
       "<table border=\"1\" class=\"dataframe\">\n",
       "  <thead>\n",
       "    <tr style=\"text-align: right;\">\n",
       "      <th></th>\n",
       "      <th>EngSize</th>\n",
       "      <th>Age</th>\n",
       "      <th>Gender</th>\n",
       "      <th>Marital</th>\n",
       "      <th>exp</th>\n",
       "      <th>Owner</th>\n",
       "      <th>vAge</th>\n",
       "      <th>Garage</th>\n",
       "      <th>AntiTFD</th>\n",
       "      <th>import</th>\n",
       "      <th>Loss</th>\n",
       "      <th>LossClass</th>\n",
       "      <th>vAgeNew</th>\n",
       "      <th>EngType</th>\n",
       "      <th>Intercept</th>\n",
       "    </tr>\n",
       "  </thead>\n",
       "  <tbody>\n",
       "    <tr>\n",
       "      <th>0</th>\n",
       "      <td>2.0</td>\n",
       "      <td>56</td>\n",
       "      <td>0</td>\n",
       "      <td>1</td>\n",
       "      <td>20</td>\n",
       "      <td>1</td>\n",
       "      <td>10</td>\n",
       "      <td>1</td>\n",
       "      <td>1</td>\n",
       "      <td>1</td>\n",
       "      <td>0.0</td>\n",
       "      <td>0</td>\n",
       "      <td>0</td>\n",
       "      <td>1</td>\n",
       "      <td>1.0</td>\n",
       "    </tr>\n",
       "    <tr>\n",
       "      <th>1</th>\n",
       "      <td>1.8</td>\n",
       "      <td>41</td>\n",
       "      <td>0</td>\n",
       "      <td>1</td>\n",
       "      <td>20</td>\n",
       "      <td>1</td>\n",
       "      <td>9</td>\n",
       "      <td>1</td>\n",
       "      <td>0</td>\n",
       "      <td>0</td>\n",
       "      <td>0.0</td>\n",
       "      <td>0</td>\n",
       "      <td>0</td>\n",
       "      <td>1</td>\n",
       "      <td>1.0</td>\n",
       "    </tr>\n",
       "    <tr>\n",
       "      <th>2</th>\n",
       "      <td>2.0</td>\n",
       "      <td>44</td>\n",
       "      <td>0</td>\n",
       "      <td>0</td>\n",
       "      <td>20</td>\n",
       "      <td>1</td>\n",
       "      <td>8</td>\n",
       "      <td>1</td>\n",
       "      <td>1</td>\n",
       "      <td>0</td>\n",
       "      <td>0.0</td>\n",
       "      <td>0</td>\n",
       "      <td>0</td>\n",
       "      <td>1</td>\n",
       "      <td>1.0</td>\n",
       "    </tr>\n",
       "    <tr>\n",
       "      <th>3</th>\n",
       "      <td>1.6</td>\n",
       "      <td>56</td>\n",
       "      <td>0</td>\n",
       "      <td>1</td>\n",
       "      <td>20</td>\n",
       "      <td>1</td>\n",
       "      <td>7</td>\n",
       "      <td>1</td>\n",
       "      <td>1</td>\n",
       "      <td>0</td>\n",
       "      <td>0.0</td>\n",
       "      <td>0</td>\n",
       "      <td>0</td>\n",
       "      <td>0</td>\n",
       "      <td>1.0</td>\n",
       "    </tr>\n",
       "    <tr>\n",
       "      <th>4</th>\n",
       "      <td>1.8</td>\n",
       "      <td>45</td>\n",
       "      <td>0</td>\n",
       "      <td>1</td>\n",
       "      <td>20</td>\n",
       "      <td>1</td>\n",
       "      <td>7</td>\n",
       "      <td>0</td>\n",
       "      <td>0</td>\n",
       "      <td>0</td>\n",
       "      <td>0.0</td>\n",
       "      <td>0</td>\n",
       "      <td>0</td>\n",
       "      <td>1</td>\n",
       "      <td>1.0</td>\n",
       "    </tr>\n",
       "  </tbody>\n",
       "</table>\n",
       "</div>"
      ],
      "text/plain": [
       "   EngSize  Age  Gender  Marital  exp  Owner  vAge  Garage  AntiTFD  import  \\\n",
       "0      2.0   56       0        1   20      1    10       1        1       1   \n",
       "1      1.8   41       0        1   20      1     9       1        0       0   \n",
       "2      2.0   44       0        0   20      1     8       1        1       0   \n",
       "3      1.6   56       0        1   20      1     7       1        1       0   \n",
       "4      1.8   45       0        1   20      1     7       0        0       0   \n",
       "\n",
       "   Loss  LossClass  vAgeNew  EngType  Intercept  \n",
       "0   0.0          0        0        1        1.0  \n",
       "1   0.0          0        0        1        1.0  \n",
       "2   0.0          0        0        1        1.0  \n",
       "3   0.0          0        0        0        1.0  \n",
       "4   0.0          0        0        1        1.0  "
      ]
     },
     "execution_count": 47,
     "metadata": {},
     "output_type": "execute_result"
    }
   ],
   "source": [
    "# 二分类变量的转换\n",
    "auto['Gender'] = auto['Gender'].map(lambda x: 1 if x == u'女'else 0)\n",
    "\n",
    "auto['Marital'] = auto['Marital'].map(lambda x: 1 if x == u'已婚' else 0)\n",
    "\n",
    "auto['Garage'] = auto['Garage'].map(lambda x: 1 if x == u'有'else 0)\n",
    "\n",
    "auto['AntiTFD'] = auto['AntiTFD'].map(lambda x: 1 if x == u'有防盗装置'else 0)\n",
    "\n",
    "auto['import'] = auto['import'].map(lambda x: 1 if x == u'进口'else 0)\n",
    "\n",
    "\n",
    "# 变量取值的转换\n",
    "\n",
    "auto['vAgeNew'] = auto['vAge'].map(lambda x: 1 if x == 1 else 0)\n",
    "\n",
    "auto['EngType'] = auto['EngSize'].map(lambda x: 1 if x >1.6 else 0)\n",
    "\n",
    "auto['Owner'] = auto['Owner'].replace({u'公司':1, u'私人':2, u'政府':3})\n",
    "\n",
    "auto['Intercept'] = 1.0\n",
    "\n",
    "# 另一种写法\n",
    "# auto['Owner'] = auto['Owner'].replace([u'公司', u'私人', u'政府'],[1,2,3])\n",
    "\n",
    "auto.head()"
   ]
  },
  {
   "cell_type": "code",
   "execution_count": 48,
   "metadata": {
    "collapsed": false,
    "scrolled": true
   },
   "outputs": [
    {
     "data": {
      "text/html": [
       "<div>\n",
       "<table border=\"1\" class=\"dataframe\">\n",
       "  <thead>\n",
       "    <tr style=\"text-align: right;\">\n",
       "      <th></th>\n",
       "      <th>Owner_1</th>\n",
       "      <th>Owner_2</th>\n",
       "      <th>Owner_3</th>\n",
       "    </tr>\n",
       "  </thead>\n",
       "  <tbody>\n",
       "    <tr>\n",
       "      <th>0</th>\n",
       "      <td>1</td>\n",
       "      <td>0</td>\n",
       "      <td>0</td>\n",
       "    </tr>\n",
       "    <tr>\n",
       "      <th>1</th>\n",
       "      <td>1</td>\n",
       "      <td>0</td>\n",
       "      <td>0</td>\n",
       "    </tr>\n",
       "    <tr>\n",
       "      <th>2</th>\n",
       "      <td>1</td>\n",
       "      <td>0</td>\n",
       "      <td>0</td>\n",
       "    </tr>\n",
       "    <tr>\n",
       "      <th>3</th>\n",
       "      <td>1</td>\n",
       "      <td>0</td>\n",
       "      <td>0</td>\n",
       "    </tr>\n",
       "    <tr>\n",
       "      <th>4</th>\n",
       "      <td>1</td>\n",
       "      <td>0</td>\n",
       "      <td>0</td>\n",
       "    </tr>\n",
       "  </tbody>\n",
       "</table>\n",
       "</div>"
      ],
      "text/plain": [
       "   Owner_1  Owner_2  Owner_3\n",
       "0        1        0        0\n",
       "1        1        0        0\n",
       "2        1        0        0\n",
       "3        1        0        0\n",
       "4        1        0        0"
      ]
     },
     "execution_count": 48,
     "metadata": {},
     "output_type": "execute_result"
    }
   ],
   "source": [
    "owner_ranks = pd.get_dummies(auto['Owner'], prefix='Owner')\n",
    "owner_ranks.head()"
   ]
  },
  {
   "cell_type": "code",
   "execution_count": 49,
   "metadata": {
    "collapsed": false,
    "scrolled": true
   },
   "outputs": [
    {
     "data": {
      "text/plain": [
       "Index(['EngSize', 'Age', 'Gender', 'Marital', 'exp', 'Owner', 'vAge', 'Garage',\n",
       "       'AntiTFD', 'import', 'Loss', 'LossClass', 'vAgeNew', 'EngType',\n",
       "       'Intercept'],\n",
       "      dtype='object')"
      ]
     },
     "execution_count": 49,
     "metadata": {},
     "output_type": "execute_result"
    }
   ],
   "source": [
    "auto.columns"
   ]
  },
  {
   "cell_type": "code",
   "execution_count": 50,
   "metadata": {
    "collapsed": false,
    "scrolled": false
   },
   "outputs": [
    {
     "data": {
      "text/html": [
       "<div>\n",
       "<table border=\"1\" class=\"dataframe\">\n",
       "  <thead>\n",
       "    <tr style=\"text-align: right;\">\n",
       "      <th></th>\n",
       "      <th>LossClass</th>\n",
       "      <th>Intercept</th>\n",
       "      <th>Age</th>\n",
       "      <th>Gender</th>\n",
       "      <th>Marital</th>\n",
       "      <th>exp</th>\n",
       "      <th>vAgeNew</th>\n",
       "      <th>Garage</th>\n",
       "      <th>AntiTFD</th>\n",
       "      <th>import</th>\n",
       "      <th>EngType</th>\n",
       "      <th>Owner_2</th>\n",
       "      <th>Owner_3</th>\n",
       "    </tr>\n",
       "  </thead>\n",
       "  <tbody>\n",
       "    <tr>\n",
       "      <th>0</th>\n",
       "      <td>0</td>\n",
       "      <td>1.0</td>\n",
       "      <td>56</td>\n",
       "      <td>0</td>\n",
       "      <td>1</td>\n",
       "      <td>20</td>\n",
       "      <td>0</td>\n",
       "      <td>1</td>\n",
       "      <td>1</td>\n",
       "      <td>1</td>\n",
       "      <td>1</td>\n",
       "      <td>0</td>\n",
       "      <td>0</td>\n",
       "    </tr>\n",
       "    <tr>\n",
       "      <th>1</th>\n",
       "      <td>0</td>\n",
       "      <td>1.0</td>\n",
       "      <td>41</td>\n",
       "      <td>0</td>\n",
       "      <td>1</td>\n",
       "      <td>20</td>\n",
       "      <td>0</td>\n",
       "      <td>1</td>\n",
       "      <td>0</td>\n",
       "      <td>0</td>\n",
       "      <td>1</td>\n",
       "      <td>0</td>\n",
       "      <td>0</td>\n",
       "    </tr>\n",
       "    <tr>\n",
       "      <th>2</th>\n",
       "      <td>0</td>\n",
       "      <td>1.0</td>\n",
       "      <td>44</td>\n",
       "      <td>0</td>\n",
       "      <td>0</td>\n",
       "      <td>20</td>\n",
       "      <td>0</td>\n",
       "      <td>1</td>\n",
       "      <td>1</td>\n",
       "      <td>0</td>\n",
       "      <td>1</td>\n",
       "      <td>0</td>\n",
       "      <td>0</td>\n",
       "    </tr>\n",
       "    <tr>\n",
       "      <th>3</th>\n",
       "      <td>0</td>\n",
       "      <td>1.0</td>\n",
       "      <td>56</td>\n",
       "      <td>0</td>\n",
       "      <td>1</td>\n",
       "      <td>20</td>\n",
       "      <td>0</td>\n",
       "      <td>1</td>\n",
       "      <td>1</td>\n",
       "      <td>0</td>\n",
       "      <td>0</td>\n",
       "      <td>0</td>\n",
       "      <td>0</td>\n",
       "    </tr>\n",
       "    <tr>\n",
       "      <th>4</th>\n",
       "      <td>0</td>\n",
       "      <td>1.0</td>\n",
       "      <td>45</td>\n",
       "      <td>0</td>\n",
       "      <td>1</td>\n",
       "      <td>20</td>\n",
       "      <td>0</td>\n",
       "      <td>0</td>\n",
       "      <td>0</td>\n",
       "      <td>0</td>\n",
       "      <td>1</td>\n",
       "      <td>0</td>\n",
       "      <td>0</td>\n",
       "    </tr>\n",
       "  </tbody>\n",
       "</table>\n",
       "</div>"
      ],
      "text/plain": [
       "   LossClass  Intercept  Age  Gender  Marital  exp  vAgeNew  Garage  AntiTFD  \\\n",
       "0          0        1.0   56       0        1   20        0       1        1   \n",
       "1          0        1.0   41       0        1   20        0       1        0   \n",
       "2          0        1.0   44       0        0   20        0       1        1   \n",
       "3          0        1.0   56       0        1   20        0       1        1   \n",
       "4          0        1.0   45       0        1   20        0       0        0   \n",
       "\n",
       "   import  EngType  Owner_2  Owner_3  \n",
       "0       1        1        0        0  \n",
       "1       0        1        0        0  \n",
       "2       0        1        0        0  \n",
       "3       0        0        0        0  \n",
       "4       0        1        0        0  "
      ]
     },
     "execution_count": 50,
     "metadata": {},
     "output_type": "execute_result"
    }
   ],
   "source": [
    "cols_to_keep = ['LossClass','Intercept', 'Age', 'Gender','Marital','exp',\\\n",
    "                'vAgeNew','Garage','AntiTFD','import','EngType' ]\n",
    "                 \n",
    "auto = auto[cols_to_keep].join(owner_ranks.ix[:, 'Owner_2':])\n",
    "\n",
    "auto.head()"
   ]
  },
  {
   "cell_type": "code",
   "execution_count": 51,
   "metadata": {
    "collapsed": false
   },
   "outputs": [],
   "source": [
    "y = auto['LossClass']\n",
    "X = auto.iloc[:,1:]"
   ]
  },
  {
   "cell_type": "code",
   "execution_count": 52,
   "metadata": {
    "collapsed": false,
    "scrolled": false
   },
   "outputs": [
    {
     "data": {
      "text/html": [
       "<div>\n",
       "<table border=\"1\" class=\"dataframe\">\n",
       "  <thead>\n",
       "    <tr style=\"text-align: right;\">\n",
       "      <th></th>\n",
       "      <th>Intercept</th>\n",
       "      <th>Age</th>\n",
       "      <th>Gender</th>\n",
       "      <th>Marital</th>\n",
       "      <th>exp</th>\n",
       "      <th>vAgeNew</th>\n",
       "      <th>Garage</th>\n",
       "      <th>AntiTFD</th>\n",
       "      <th>import</th>\n",
       "      <th>EngType</th>\n",
       "      <th>Owner_2</th>\n",
       "      <th>Owner_3</th>\n",
       "    </tr>\n",
       "  </thead>\n",
       "  <tbody>\n",
       "    <tr>\n",
       "      <th>0</th>\n",
       "      <td>1.0</td>\n",
       "      <td>56</td>\n",
       "      <td>0</td>\n",
       "      <td>1</td>\n",
       "      <td>20</td>\n",
       "      <td>0</td>\n",
       "      <td>1</td>\n",
       "      <td>1</td>\n",
       "      <td>1</td>\n",
       "      <td>1</td>\n",
       "      <td>0</td>\n",
       "      <td>0</td>\n",
       "    </tr>\n",
       "    <tr>\n",
       "      <th>1</th>\n",
       "      <td>1.0</td>\n",
       "      <td>41</td>\n",
       "      <td>0</td>\n",
       "      <td>1</td>\n",
       "      <td>20</td>\n",
       "      <td>0</td>\n",
       "      <td>1</td>\n",
       "      <td>0</td>\n",
       "      <td>0</td>\n",
       "      <td>1</td>\n",
       "      <td>0</td>\n",
       "      <td>0</td>\n",
       "    </tr>\n",
       "    <tr>\n",
       "      <th>2</th>\n",
       "      <td>1.0</td>\n",
       "      <td>44</td>\n",
       "      <td>0</td>\n",
       "      <td>0</td>\n",
       "      <td>20</td>\n",
       "      <td>0</td>\n",
       "      <td>1</td>\n",
       "      <td>1</td>\n",
       "      <td>0</td>\n",
       "      <td>1</td>\n",
       "      <td>0</td>\n",
       "      <td>0</td>\n",
       "    </tr>\n",
       "    <tr>\n",
       "      <th>3</th>\n",
       "      <td>1.0</td>\n",
       "      <td>56</td>\n",
       "      <td>0</td>\n",
       "      <td>1</td>\n",
       "      <td>20</td>\n",
       "      <td>0</td>\n",
       "      <td>1</td>\n",
       "      <td>1</td>\n",
       "      <td>0</td>\n",
       "      <td>0</td>\n",
       "      <td>0</td>\n",
       "      <td>0</td>\n",
       "    </tr>\n",
       "    <tr>\n",
       "      <th>4</th>\n",
       "      <td>1.0</td>\n",
       "      <td>45</td>\n",
       "      <td>0</td>\n",
       "      <td>1</td>\n",
       "      <td>20</td>\n",
       "      <td>0</td>\n",
       "      <td>0</td>\n",
       "      <td>0</td>\n",
       "      <td>0</td>\n",
       "      <td>1</td>\n",
       "      <td>0</td>\n",
       "      <td>0</td>\n",
       "    </tr>\n",
       "  </tbody>\n",
       "</table>\n",
       "</div>"
      ],
      "text/plain": [
       "   Intercept  Age  Gender  Marital  exp  vAgeNew  Garage  AntiTFD  import  \\\n",
       "0        1.0   56       0        1   20        0       1        1       1   \n",
       "1        1.0   41       0        1   20        0       1        0       0   \n",
       "2        1.0   44       0        0   20        0       1        1       0   \n",
       "3        1.0   56       0        1   20        0       1        1       0   \n",
       "4        1.0   45       0        1   20        0       0        0       0   \n",
       "\n",
       "   EngType  Owner_2  Owner_3  \n",
       "0        1        0        0  \n",
       "1        1        0        0  \n",
       "2        1        0        0  \n",
       "3        0        0        0  \n",
       "4        1        0        0  "
      ]
     },
     "execution_count": 52,
     "metadata": {},
     "output_type": "execute_result"
    }
   ],
   "source": [
    "X.head()"
   ]
  },
  {
   "cell_type": "code",
   "execution_count": 53,
   "metadata": {
    "collapsed": false
   },
   "outputs": [],
   "source": [
    "from sklearn.linear_model import LogisticRegression  \n",
    "from sklearn.model_selection import train_test_split \n",
    "from sklearn.metrics import classification_report   \n",
    "from sklearn import metrics  \n",
    "\n",
    "\n",
    "X_train,X_test,y_train,y_test = train_test_split(\n",
    "X,y,test_size=0.25,random_state=42)\n",
    "  \n",
    "# 使用类，参数全是默认的  \n",
    "classifier = LogisticRegression(fit_intercept = False, C = 1e9,class_weight=\"balanced\")  \n",
    "model = classifier.fit(X_train, y_train)               # 训练数据来学习  \n",
    "  "
   ]
  },
  {
   "cell_type": "code",
   "execution_count": 54,
   "metadata": {
    "collapsed": false
   },
   "outputs": [
    {
     "name": "stdout",
     "output_type": "stream",
     "text": [
      "             precision    recall  f1-score   support\n",
      "\n",
      "          0       0.77      0.54      0.63       751\n",
      "          1       0.35      0.62      0.45       308\n",
      "\n",
      "avg / total       0.65      0.56      0.58      1059\n",
      "\n"
     ]
    },
    {
     "data": {
      "text/plain": [
       "0.57741625884102588"
      ]
     },
     "execution_count": 54,
     "metadata": {},
     "output_type": "execute_result"
    }
   ],
   "source": [
    "y_pre = model.predict(X_test)\n",
    "print(classification_report(y_test,y_pre))  \n",
    "metrics.roc_auc_score(y_test,y_pre) #预测Y值得分"
   ]
  },
  {
   "cell_type": "code",
   "execution_count": null,
   "metadata": {
    "collapsed": true
   },
   "outputs": [],
   "source": [
    "?model"
   ]
  }
 ],
 "metadata": {
  "kernelspec": {
   "display_name": "Python 3",
   "language": "python",
   "name": "python3"
  },
  "language_info": {
   "codemirror_mode": {
    "name": "ipython",
    "version": 3
   },
   "file_extension": ".py",
   "mimetype": "text/x-python",
   "name": "python",
   "nbconvert_exporter": "python",
   "pygments_lexer": "ipython3",
   "version": "3.4.5"
  }
 },
 "nbformat": 4,
 "nbformat_minor": 0
}
