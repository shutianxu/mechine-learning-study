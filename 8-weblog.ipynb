{
 "cells": [
  {
   "cell_type": "code",
   "execution_count": 5,
   "metadata": {
    "collapsed": true
   },
   "outputs": [],
   "source": [
    "import pandas as pd\n",
    "import numpy as np\n",
    "import matplotlib.pyplot as plt"
   ]
  },
  {
   "cell_type": "code",
   "execution_count": 2,
   "metadata": {
    "collapsed": true
   },
   "outputs": [],
   "source": [
    "%matplotlib inline"
   ]
  },
  {
   "cell_type": "code",
   "execution_count": 62,
   "metadata": {
    "collapsed": true
   },
   "outputs": [],
   "source": [
    "cols = ['user_id', 'xiaofei','shouye', 'fenlei', 'jieshao','temai','sousuo','gouwuche','qita','heji']"
   ]
  },
  {
   "cell_type": "code",
   "execution_count": 82,
   "metadata": {
    "collapsed": false
   },
   "outputs": [],
   "source": [
    "weblog = pd.read_csv('weblog.csv',names = cols, header = 1 )"
   ]
  },
  {
   "cell_type": "code",
   "execution_count": 83,
   "metadata": {
    "collapsed": false,
    "scrolled": true
   },
   "outputs": [
    {
     "data": {
      "text/html": [
       "<div>\n",
       "<table border=\"1\" class=\"dataframe\">\n",
       "  <thead>\n",
       "    <tr style=\"text-align: right;\">\n",
       "      <th></th>\n",
       "      <th>user_id</th>\n",
       "      <th>xiaofei</th>\n",
       "      <th>shouye</th>\n",
       "      <th>fenlei</th>\n",
       "      <th>jieshao</th>\n",
       "      <th>temai</th>\n",
       "      <th>sousuo</th>\n",
       "      <th>gouwuche</th>\n",
       "      <th>qita</th>\n",
       "      <th>heji</th>\n",
       "    </tr>\n",
       "  </thead>\n",
       "  <tbody>\n",
       "    <tr>\n",
       "      <th>0</th>\n",
       "      <td>U00000323</td>\n",
       "      <td>6870</td>\n",
       "      <td>4</td>\n",
       "      <td>1</td>\n",
       "      <td>5</td>\n",
       "      <td>2</td>\n",
       "      <td>0</td>\n",
       "      <td>1</td>\n",
       "      <td>0</td>\n",
       "      <td>13</td>\n",
       "    </tr>\n",
       "    <tr>\n",
       "      <th>1</th>\n",
       "      <td>U00000386</td>\n",
       "      <td>2940</td>\n",
       "      <td>5</td>\n",
       "      <td>4</td>\n",
       "      <td>10</td>\n",
       "      <td>3</td>\n",
       "      <td>0</td>\n",
       "      <td>1</td>\n",
       "      <td>0</td>\n",
       "      <td>23</td>\n",
       "    </tr>\n",
       "    <tr>\n",
       "      <th>2</th>\n",
       "      <td>U00000535</td>\n",
       "      <td>1390</td>\n",
       "      <td>7</td>\n",
       "      <td>2</td>\n",
       "      <td>39</td>\n",
       "      <td>3</td>\n",
       "      <td>12</td>\n",
       "      <td>8</td>\n",
       "      <td>2</td>\n",
       "      <td>73</td>\n",
       "    </tr>\n",
       "    <tr>\n",
       "      <th>3</th>\n",
       "      <td>U00000536</td>\n",
       "      <td>27500</td>\n",
       "      <td>3</td>\n",
       "      <td>3</td>\n",
       "      <td>8</td>\n",
       "      <td>1</td>\n",
       "      <td>1</td>\n",
       "      <td>1</td>\n",
       "      <td>0</td>\n",
       "      <td>17</td>\n",
       "    </tr>\n",
       "    <tr>\n",
       "      <th>4</th>\n",
       "      <td>U00000625</td>\n",
       "      <td>920</td>\n",
       "      <td>4</td>\n",
       "      <td>1</td>\n",
       "      <td>6</td>\n",
       "      <td>3</td>\n",
       "      <td>0</td>\n",
       "      <td>1</td>\n",
       "      <td>0</td>\n",
       "      <td>15</td>\n",
       "    </tr>\n",
       "  </tbody>\n",
       "</table>\n",
       "</div>"
      ],
      "text/plain": [
       "     user_id  xiaofei  shouye  fenlei  jieshao  temai  sousuo  gouwuche  qita  \\\n",
       "0  U00000323     6870       4       1        5      2       0         1     0   \n",
       "1  U00000386     2940       5       4       10      3       0         1     0   \n",
       "2  U00000535     1390       7       2       39      3      12         8     2   \n",
       "3  U00000536    27500       3       3        8      1       1         1     0   \n",
       "4  U00000625      920       4       1        6      3       0         1     0   \n",
       "\n",
       "   heji  \n",
       "0    13  \n",
       "1    23  \n",
       "2    73  \n",
       "3    17  \n",
       "4    15  "
      ]
     },
     "execution_count": 83,
     "metadata": {},
     "output_type": "execute_result"
    }
   ],
   "source": [
    "weblog.head()"
   ]
  },
  {
   "cell_type": "markdown",
   "metadata": {},
   "source": [
    "# 用sklearn库"
   ]
  },
  {
   "cell_type": "code",
   "execution_count": 60,
   "metadata": {
    "collapsed": true
   },
   "outputs": [],
   "source": [
    "from sklearn import linear_model"
   ]
  },
  {
   "cell_type": "code",
   "execution_count": 84,
   "metadata": {
    "collapsed": false,
    "scrolled": true
   },
   "outputs": [
    {
     "data": {
      "text/html": [
       "<div>\n",
       "<table border=\"1\" class=\"dataframe\">\n",
       "  <thead>\n",
       "    <tr style=\"text-align: right;\">\n",
       "      <th></th>\n",
       "      <th>shouye</th>\n",
       "      <th>fenlei</th>\n",
       "      <th>jieshao</th>\n",
       "      <th>temai</th>\n",
       "      <th>sousuo</th>\n",
       "      <th>gouwuche</th>\n",
       "      <th>qita</th>\n",
       "    </tr>\n",
       "  </thead>\n",
       "  <tbody>\n",
       "    <tr>\n",
       "      <th>0</th>\n",
       "      <td>4</td>\n",
       "      <td>1</td>\n",
       "      <td>5</td>\n",
       "      <td>2</td>\n",
       "      <td>0</td>\n",
       "      <td>1</td>\n",
       "      <td>0</td>\n",
       "    </tr>\n",
       "    <tr>\n",
       "      <th>1</th>\n",
       "      <td>5</td>\n",
       "      <td>4</td>\n",
       "      <td>10</td>\n",
       "      <td>3</td>\n",
       "      <td>0</td>\n",
       "      <td>1</td>\n",
       "      <td>0</td>\n",
       "    </tr>\n",
       "    <tr>\n",
       "      <th>2</th>\n",
       "      <td>7</td>\n",
       "      <td>2</td>\n",
       "      <td>39</td>\n",
       "      <td>3</td>\n",
       "      <td>12</td>\n",
       "      <td>8</td>\n",
       "      <td>2</td>\n",
       "    </tr>\n",
       "    <tr>\n",
       "      <th>3</th>\n",
       "      <td>3</td>\n",
       "      <td>3</td>\n",
       "      <td>8</td>\n",
       "      <td>1</td>\n",
       "      <td>1</td>\n",
       "      <td>1</td>\n",
       "      <td>0</td>\n",
       "    </tr>\n",
       "    <tr>\n",
       "      <th>4</th>\n",
       "      <td>4</td>\n",
       "      <td>1</td>\n",
       "      <td>6</td>\n",
       "      <td>3</td>\n",
       "      <td>0</td>\n",
       "      <td>1</td>\n",
       "      <td>0</td>\n",
       "    </tr>\n",
       "  </tbody>\n",
       "</table>\n",
       "</div>"
      ],
      "text/plain": [
       "   shouye  fenlei  jieshao  temai  sousuo  gouwuche  qita\n",
       "0       4       1        5      2       0         1     0\n",
       "1       5       4       10      3       0         1     0\n",
       "2       7       2       39      3      12         8     2\n",
       "3       3       3        8      1       1         1     0\n",
       "4       4       1        6      3       0         1     0"
      ]
     },
     "execution_count": 84,
     "metadata": {},
     "output_type": "execute_result"
    }
   ],
   "source": [
    "lr = linear_model.LinearRegression()\n",
    "X = weblog[[2,3,4,5,6,7,8]]\n",
    "X.head()"
   ]
  },
  {
   "cell_type": "code",
   "execution_count": 85,
   "metadata": {
    "collapsed": false
   },
   "outputs": [
    {
     "data": {
      "text/plain": [
       "0     6870\n",
       "1     2940\n",
       "2     1390\n",
       "3    27500\n",
       "4      920\n",
       "Name: xiaofei, dtype: int64"
      ]
     },
     "execution_count": 85,
     "metadata": {},
     "output_type": "execute_result"
    }
   ],
   "source": [
    "y = weblog['xiaofei']\n",
    "y.head()"
   ]
  },
  {
   "cell_type": "code",
   "execution_count": 86,
   "metadata": {
    "collapsed": false,
    "scrolled": true
   },
   "outputs": [
    {
     "name": "stdout",
     "output_type": "stream",
     "text": [
      "6106.42311912 [ -85.71755189   63.42739527   31.63933109 -803.73027068  236.31655991\n",
      "  123.88256939  -69.71330111]\n"
     ]
    }
   ],
   "source": [
    "lr.fit(X,y)\n",
    "# print the result\n",
    "print lr.intercept_,lr.coef_"
   ]
  },
  {
   "cell_type": "markdown",
   "metadata": {},
   "source": [
    "# 用statmodels库"
   ]
  },
  {
   "cell_type": "code",
   "execution_count": 87,
   "metadata": {
    "collapsed": true
   },
   "outputs": [],
   "source": [
    "import statsmodels.api as sm\n",
    "#import statsmodels.formula.api as sm"
   ]
  },
  {
   "cell_type": "code",
   "execution_count": 88,
   "metadata": {
    "collapsed": false
   },
   "outputs": [
    {
     "data": {
      "text/html": [
       "<table class=\"simpletable\">\n",
       "<caption>OLS Regression Results</caption>\n",
       "<tr>\n",
       "  <th>Dep. Variable:</th>         <td>xiaofei</td>     <th>  R-squared:         </th>  <td>   0.033</td>  \n",
       "</tr>\n",
       "<tr>\n",
       "  <th>Model:</th>                   <td>OLS</td>       <th>  Adj. R-squared:    </th>  <td>   0.032</td>  \n",
       "</tr>\n",
       "<tr>\n",
       "  <th>Method:</th>             <td>Least Squares</td>  <th>  F-statistic:       </th>  <td>   50.72</td>  \n",
       "</tr>\n",
       "<tr>\n",
       "  <th>Date:</th>             <td>Tue, 14 Feb 2017</td> <th>  Prob (F-statistic):</th>  <td>1.78e-71</td>  \n",
       "</tr>\n",
       "<tr>\n",
       "  <th>Time:</th>                 <td>18:59:44</td>     <th>  Log-Likelihood:    </th> <td>-1.1171e+05</td>\n",
       "</tr>\n",
       "<tr>\n",
       "  <th>No. Observations:</th>      <td> 10534</td>      <th>  AIC:               </th>  <td>2.234e+05</td> \n",
       "</tr>\n",
       "<tr>\n",
       "  <th>Df Residuals:</th>          <td> 10526</td>      <th>  BIC:               </th>  <td>2.235e+05</td> \n",
       "</tr>\n",
       "<tr>\n",
       "  <th>Df Model:</th>              <td>     7</td>      <th>                     </th>      <td> </td>     \n",
       "</tr>\n",
       "<tr>\n",
       "  <th>Covariance Type:</th>      <td>nonrobust</td>    <th>                     </th>      <td> </td>     \n",
       "</tr>\n",
       "</table>\n",
       "<table class=\"simpletable\">\n",
       "<tr>\n",
       "      <td></td>        <th>coef</th>     <th>std err</th>      <th>t</th>      <th>P>|t|</th> <th>[95.0% Conf. Int.]</th> \n",
       "</tr>\n",
       "<tr>\n",
       "  <th>const</th>    <td> 6106.4231</td> <td>  269.676</td> <td>   22.644</td> <td> 0.000</td> <td> 5577.808  6635.038</td>\n",
       "</tr>\n",
       "<tr>\n",
       "  <th>shouye</th>   <td>  -85.7176</td> <td>   66.182</td> <td>   -1.295</td> <td> 0.195</td> <td> -215.446    44.011</td>\n",
       "</tr>\n",
       "<tr>\n",
       "  <th>fenlei</th>   <td>   63.4274</td> <td>   51.139</td> <td>    1.240</td> <td> 0.215</td> <td>  -36.814   163.669</td>\n",
       "</tr>\n",
       "<tr>\n",
       "  <th>jieshao</th>  <td>   31.6393</td> <td>   13.751</td> <td>    2.301</td> <td> 0.021</td> <td>    4.684    58.594</td>\n",
       "</tr>\n",
       "<tr>\n",
       "  <th>temai</th>    <td> -803.7303</td> <td>   97.685</td> <td>   -8.228</td> <td> 0.000</td> <td> -995.212  -612.248</td>\n",
       "</tr>\n",
       "<tr>\n",
       "  <th>sousuo</th>   <td>  236.3166</td> <td>   70.608</td> <td>    3.347</td> <td> 0.001</td> <td>   97.912   374.721</td>\n",
       "</tr>\n",
       "<tr>\n",
       "  <th>gouwuche</th> <td>  123.8826</td> <td>  119.476</td> <td>    1.037</td> <td> 0.300</td> <td> -110.314   358.079</td>\n",
       "</tr>\n",
       "<tr>\n",
       "  <th>qita</th>     <td>  -69.7133</td> <td>  156.833</td> <td>   -0.445</td> <td> 0.657</td> <td> -377.136   237.710</td>\n",
       "</tr>\n",
       "</table>\n",
       "<table class=\"simpletable\">\n",
       "<tr>\n",
       "  <th>Omnibus:</th>       <td>10797.158</td> <th>  Durbin-Watson:     </th>  <td>   2.000</td> \n",
       "</tr>\n",
       "<tr>\n",
       "  <th>Prob(Omnibus):</th>  <td> 0.000</td>   <th>  Jarque-Bera (JB):  </th> <td>822163.415</td>\n",
       "</tr>\n",
       "<tr>\n",
       "  <th>Skew:</th>           <td> 5.047</td>   <th>  Prob(JB):          </th>  <td>    0.00</td> \n",
       "</tr>\n",
       "<tr>\n",
       "  <th>Kurtosis:</th>       <td>45.086</td>   <th>  Cond. No.          </th>  <td>    81.1</td> \n",
       "</tr>\n",
       "</table>"
      ],
      "text/plain": [
       "<class 'statsmodels.iolib.summary.Summary'>\n",
       "\"\"\"\n",
       "                            OLS Regression Results                            \n",
       "==============================================================================\n",
       "Dep. Variable:                xiaofei   R-squared:                       0.033\n",
       "Model:                            OLS   Adj. R-squared:                  0.032\n",
       "Method:                 Least Squares   F-statistic:                     50.72\n",
       "Date:                Tue, 14 Feb 2017   Prob (F-statistic):           1.78e-71\n",
       "Time:                        18:59:44   Log-Likelihood:            -1.1171e+05\n",
       "No. Observations:               10534   AIC:                         2.234e+05\n",
       "Df Residuals:                   10526   BIC:                         2.235e+05\n",
       "Df Model:                           7                                         \n",
       "Covariance Type:            nonrobust                                         \n",
       "==============================================================================\n",
       "                 coef    std err          t      P>|t|      [95.0% Conf. Int.]\n",
       "------------------------------------------------------------------------------\n",
       "const       6106.4231    269.676     22.644      0.000      5577.808  6635.038\n",
       "shouye       -85.7176     66.182     -1.295      0.195      -215.446    44.011\n",
       "fenlei        63.4274     51.139      1.240      0.215       -36.814   163.669\n",
       "jieshao       31.6393     13.751      2.301      0.021         4.684    58.594\n",
       "temai       -803.7303     97.685     -8.228      0.000      -995.212  -612.248\n",
       "sousuo       236.3166     70.608      3.347      0.001        97.912   374.721\n",
       "gouwuche     123.8826    119.476      1.037      0.300      -110.314   358.079\n",
       "qita         -69.7133    156.833     -0.445      0.657      -377.136   237.710\n",
       "==============================================================================\n",
       "Omnibus:                    10797.158   Durbin-Watson:                   2.000\n",
       "Prob(Omnibus):                  0.000   Jarque-Bera (JB):           822163.415\n",
       "Skew:                           5.047   Prob(JB):                         0.00\n",
       "Kurtosis:                      45.086   Cond. No.                         81.1\n",
       "==============================================================================\n",
       "\n",
       "Warnings:\n",
       "[1] Standard Errors assume that the covariance matrix of the errors is correctly specified.\n",
       "\"\"\""
      ]
     },
     "execution_count": 88,
     "metadata": {},
     "output_type": "execute_result"
    }
   ],
   "source": [
    "#model = sm.ols(formula='xiaofei ~ shouye + fenlei + jieshao + temai + sousuo + gouwuche + qita', data=weblog)\n",
    "model = sm.OLS(y, sm.add_constant(X))\n",
    "results = model.fit()\n",
    "results.summary()"
   ]
  }
 ],
 "metadata": {
  "kernelspec": {
   "display_name": "Python 2",
   "language": "python",
   "name": "python2"
  },
  "language_info": {
   "codemirror_mode": {
    "name": "ipython",
    "version": 2
   },
   "file_extension": ".py",
   "mimetype": "text/x-python",
   "name": "python",
   "nbconvert_exporter": "python",
   "pygments_lexer": "ipython2",
   "version": "2.7.11"
  }
 },
 "nbformat": 4,
 "nbformat_minor": 0
}
