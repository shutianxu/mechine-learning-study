{
 "cells": [
  {
   "cell_type": "markdown",
   "metadata": {
    "slideshow": {
     "slide_type": "slide"
    }
   },
   "source": [
    "Python是面向对象编程的语言，与R类似，但语法上有所不同。\n",
    "\n",
    "\n",
    "\n",
    "- Python： 调用str对象的split方法，对字符串进行分割\n",
    "\n",
    "```python\n",
    "    '1 2 3'.split(' ')\n",
    "```\n",
    "\n",
    "- R： 背后先检测到model是一个lm对象，再调用plot.lm函数(即lm对象的plot方法)对输入进行处理\n",
    "\n",
    "```R\n",
    "    model = lm(y ~ x, data) # 一个`lm`对象\n",
    "    plot(model)\n",
    "```\n"
   ]
  },
  {
   "cell_type": "markdown",
   "metadata": {
    "slideshow": {
     "slide_type": "slide"
    }
   },
   "source": [
    "## 自定义类"
   ]
  },
  {
   "cell_type": "code",
   "execution_count": 1,
   "metadata": {
    "collapsed": true,
    "slideshow": {
     "slide_type": "-"
    }
   },
   "outputs": [],
   "source": [
    "class People:\n",
    "    def __init__(self, name, age):\n",
    "        # 定义类的属性\n",
    "        self.name = name\n",
    "        self.age = age\n",
    "    \n",
    "    def grow(self):\n",
    "        # 定义长大的方法\n",
    "        self.age += 1\n",
    "    \n",
    "    def alterName(self, name):\n",
    "        # 定义改名的方法\n",
    "        self.name = name\n",
    "    \n",
    "    def __str__(self):\n",
    "        # 定义打印时的字符\n",
    "        return '我叫%s, 今年%s岁' %(self.name, self.age)"
   ]
  },
  {
   "cell_type": "code",
   "execution_count": 3,
   "metadata": {
    "collapsed": false
   },
   "outputs": [
    {
     "name": "stdout",
     "output_type": "stream",
     "text": [
      "韩梅梅 18\n",
      "我叫韩梅梅, 今年19岁\n",
      "我叫李雷, 今年19岁\n"
     ]
    }
   ],
   "source": [
    "xm = People('韩梅梅', 18)\n",
    "print xm.name, xm.age\n",
    "\n",
    "xm.grow()\n",
    "print xm\n",
    "\n",
    "xm.alterName('李雷')\n",
    "print xm"
   ]
  }
 ],
 "metadata": {
  "celltoolbar": "Slideshow",
  "kernelspec": {
   "display_name": "Python 2",
   "language": "python",
   "name": "python2"
  },
  "language_info": {
   "codemirror_mode": {
    "name": "ipython",
    "version": 2
   },
   "file_extension": ".py",
   "mimetype": "text/x-python",
   "name": "python",
   "nbconvert_exporter": "python",
   "pygments_lexer": "ipython2",
   "version": "2.7.11"
  }
 },
 "nbformat": 4,
 "nbformat_minor": 0
}
