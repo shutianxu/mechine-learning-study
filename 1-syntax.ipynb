{
 "cells": [
  {
   "cell_type": "markdown",
   "metadata": {
    "slideshow": {
     "slide_type": "slide"
    }
   },
   "source": [
    "## 大纲\n",
    "\n",
    "### 1. Python简介\n",
    "    - 基础对象和运算 & 基本语法 & 数据结构\n",
    "    - 面向对象编程\n",
    "    - 编辑器工具: Jupyter\n",
    "\n",
    "\n",
    "### 2. 数据科学工具箱\n",
    "    - numpy: 向量化操作，矩阵运算\n",
    "    - pandas: Python中的数据框\n",
    "    - sklearn: 模型库\n",
    "    \n",
    "\n",
    "    \n"
   ]
  },
  {
   "cell_type": "markdown",
   "metadata": {
    "slideshow": {
     "slide_type": "slide"
    }
   },
   "source": [
    "## 基础对象\n",
    "\n",
    "- int: 整数，如1, 2, 3\n",
    "\n",
    "\n",
    "- float: 浮点数，如2.3, 3.6\n",
    "\n",
    "\n",
    "- bool: 布尔，包括True, False\n",
    "\n",
    "\n",
    "- str: 字符串，如'12.3', 'abcd'"
   ]
  },
  {
   "cell_type": "code",
   "execution_count": 8,
   "metadata": {
    "collapsed": false,
    "slideshow": {
     "slide_type": "fragment"
    }
   },
   "outputs": [
    {
     "name": "stdout",
     "output_type": "stream",
     "text": [
      "<type 'int'>\n",
      "<type 'float'>\n",
      "<type 'bool'>\n",
      "<type 'str'>\n",
      "hello\n"
     ]
    }
   ],
   "source": [
    "# type 查看类型\n",
    "print type(1)\n",
    "print type(1.2)\n",
    "print type(True)\n",
    "print type('123')\n",
    "print \"hello\""
   ]
  },
  {
   "cell_type": "markdown",
   "metadata": {
    "slideshow": {
     "slide_type": "slide"
    }
   },
   "source": [
    "## 基本运算 "
   ]
  },
  {
   "cell_type": "code",
   "execution_count": 7,
   "metadata": {
    "collapsed": false
   },
   "outputs": [
    {
     "name": "stdout",
     "output_type": "stream",
     "text": [
      "5 / 2 = 2\n",
      "10 / 3 = 3\n",
      "10 / 3.0 = 3.33333333333\n"
     ]
    }
   ],
   "source": [
    "'''整数相除返回整数，小数点后会被忽略'''\n",
    "print \"5 / 2 = %s\" %(5 / 2) \n",
    "print \"10 / 3 = %s\" %(10 / 3)\n",
    "\n",
    "'''需要精确数字时，保证其中一个为浮点数'''\n",
    "print \"10 / 3.0 = %s\" %(10 / 3.0)"
   ]
  },
  {
   "cell_type": "code",
   "execution_count": 7,
   "metadata": {
    "collapsed": false,
    "scrolled": true
   },
   "outputs": [
    {
     "name": "stdout",
     "output_type": "stream",
     "text": [
      "5 ** 2 = 25\n",
      "5 / 2 = 2\n",
      "5 / 2.0 = 2.500000\n",
      "5 % 2 = 1\n"
     ]
    }
   ],
   "source": [
    "# %s, %d, %f 是占位符，可在其后补充需要的字符\n",
    "# %s: 字符\n",
    "# %d: 整数\n",
    "# %f: 浮点数\n",
    "\n",
    "print \"5 ** 2 = %d\" %(5 ** 2)  # 幂云算\n",
    "print \"5 / 2 = %d\" %(5 / 2)      \n",
    "print \"5 / 2.0 = %f\" %(5 / 2.0)\n",
    "print \"5 %% 2 = %d\" %(5 % 2)   # 取余"
   ]
  },
  {
   "cell_type": "code",
   "execution_count": 5,
   "metadata": {
    "collapsed": false
   },
   "outputs": [
    {
     "data": {
      "text/plain": [
       "2.5"
      ]
     },
     "execution_count": 5,
     "metadata": {},
     "output_type": "execute_result"
    }
   ],
   "source": [
    "# 浮点除法 要用到Python3的特性\n",
    "from __future__ import division\n",
    "5 / 2 "
   ]
  },
  {
   "cell_type": "code",
   "execution_count": 3,
   "metadata": {
    "collapsed": false
   },
   "outputs": [
    {
     "data": {
      "text/plain": [
       "2"
      ]
     },
     "execution_count": 3,
     "metadata": {},
     "output_type": "execute_result"
    }
   ],
   "source": [
    "# 普通foloor除法\n",
    "5//2"
   ]
  },
  {
   "cell_type": "markdown",
   "metadata": {
    "slideshow": {
     "slide_type": "subslide"
    }
   },
   "source": [
    "- 逻辑运算："
   ]
  },
  {
   "cell_type": "code",
   "execution_count": 32,
   "metadata": {
    "collapsed": false
   },
   "outputs": [
    {
     "name": "stdout",
     "output_type": "stream",
     "text": [
      "False\n",
      "False\n",
      "True\n",
      "True\n",
      "True\n",
      "False\n"
     ]
    }
   ],
   "source": [
    "print 1 > 1\n",
    "print 1 < 1\n",
    "print 1 >= 1\n",
    "print 1 <= 1\n",
    "print 1 == 1\n",
    "print 1 != 1"
   ]
  },
  {
   "cell_type": "code",
   "execution_count": 9,
   "metadata": {
    "collapsed": false,
    "slideshow": {
     "slide_type": "-"
    }
   },
   "outputs": [
    {
     "name": "stdout",
     "output_type": "stream",
     "text": [
      "False\n",
      "False\n"
     ]
    }
   ],
   "source": [
    "print True and False\n",
    "print False or False"
   ]
  },
  {
   "cell_type": "markdown",
   "metadata": {
    "slideshow": {
     "slide_type": "subslide"
    }
   },
   "source": [
    "- 字符串加法运算：叠加字符"
   ]
  },
  {
   "cell_type": "code",
   "execution_count": 33,
   "metadata": {
    "collapsed": false
   },
   "outputs": [
    {
     "name": "stdout",
     "output_type": "stream",
     "text": [
      "123456\n",
      "123123123\n"
     ]
    }
   ],
   "source": [
    "print '123' + '456'\n",
    "print '123' * 3"
   ]
  },
  {
   "cell_type": "markdown",
   "metadata": {
    "slideshow": {
     "slide_type": "slide"
    }
   },
   "source": [
    "## 控制流\n",
    "\n",
    "注意：**Python强制要求代码的缩进和对齐**\n",
    "\n",
    "### 条件控制\n",
    "\n",
    "    if <condition>:\n",
    "        do()\n",
    "    elif <condition>:\n",
    "        do_other()\n",
    "    else:\n",
    "        do_another()"
   ]
  },
  {
   "cell_type": "code",
   "execution_count": 10,
   "metadata": {
    "collapsed": false
   },
   "outputs": [
    {
     "name": "stdout",
     "output_type": "stream",
     "text": [
      "x不能被2或3整除\n"
     ]
    }
   ],
   "source": [
    "x = 7\n",
    "if x % 2 == 0:\n",
    "    print \"x能被2整除\"\n",
    "elif x % 3 == 0:\n",
    "    print \"x能被3整除\"\n",
    "else:\n",
    "    print \"x不能被2或3整除\""
   ]
  },
  {
   "cell_type": "markdown",
   "metadata": {
    "slideshow": {
     "slide_type": "subslide"
    }
   },
   "source": [
    "### 循环\n",
    "\n",
    "\n",
    "- while 循环\n",
    "\n",
    "```\n",
    "    while <condition>:\n",
    "        do()\n",
    "        update_condition()\n",
    "```\n",
    "\n",
    "\n",
    "- for 循环\n",
    "\n",
    "```\n",
    "    for x in <iterator>:\n",
    "        do()\n",
    "```"
   ]
  },
  {
   "cell_type": "code",
   "execution_count": 35,
   "metadata": {
    "collapsed": false
   },
   "outputs": [
    {
     "name": "stdout",
     "output_type": "stream",
     "text": [
      "2\n",
      "4\n",
      "8\n",
      "10\n"
     ]
    }
   ],
   "source": [
    "x = 1\n",
    "while x <= 10:\n",
    "    if (x % 2 == 0) and (x % 3 != 0):\n",
    "        print x\n",
    "    x += 1"
   ]
  },
  {
   "cell_type": "code",
   "execution_count": 36,
   "metadata": {
    "collapsed": false,
    "scrolled": true
   },
   "outputs": [
    {
     "name": "stdout",
     "output_type": "stream",
     "text": [
      "2\n",
      "4\n",
      "8\n",
      "10\n"
     ]
    }
   ],
   "source": [
    "for x in range(11):\n",
    "    if (x % 2 == 0) and (x % 3 != 0):\n",
    "        print x"
   ]
  },
  {
   "cell_type": "code",
   "execution_count": 2,
   "metadata": {
    "collapsed": false
   },
   "outputs": [
    {
     "data": {
      "text/plain": [
       "5"
      ]
     },
     "execution_count": 2,
     "metadata": {},
     "output_type": "execute_result"
    }
   ],
   "source": [
    "2 + 3"
   ]
  },
  {
   "cell_type": "markdown",
   "metadata": {
    "slideshow": {
     "slide_type": "slide"
    }
   },
   "source": [
    "## 自定义函数\n",
    "\n",
    "函数标准定义方法：\n",
    "\n",
    "    - def关键字 \n",
    "    - 显式用return返回结果\n",
    "\n",
    "R语言中没有return会默认把最后一个变量返回，Python不会。"
   ]
  },
  {
   "cell_type": "code",
   "execution_count": 2,
   "metadata": {
    "collapsed": false
   },
   "outputs": [
    {
     "name": "stdout",
     "output_type": "stream",
     "text": [
      "4\n",
      "None\n"
     ]
    }
   ],
   "source": [
    "def square1(x):\n",
    "    return x ** 2\n",
    "\n",
    "def square2(x):\n",
    "    x ** 2\n",
    "\n",
    "print square1(2)\n",
    "print square2(2)"
   ]
  },
  {
   "cell_type": "markdown",
   "metadata": {
    "slideshow": {
     "slide_type": "subslide"
    }
   },
   "source": [
    "匿名函数：lambda关键字，无需return。"
   ]
  },
  {
   "cell_type": "code",
   "execution_count": 3,
   "metadata": {
    "collapsed": false
   },
   "outputs": [
    {
     "name": "stdout",
     "output_type": "stream",
     "text": [
      "4\n"
     ]
    }
   ],
   "source": [
    "# 匿名函数\n",
    "square3 = lambda x: x**2\n",
    "print square3(2)"
   ]
  }
 ],
 "metadata": {
  "celltoolbar": "Slideshow",
  "kernelspec": {
   "display_name": "Python 2",
   "language": "python",
   "name": "python2"
  },
  "language_info": {
   "codemirror_mode": {
    "name": "ipython",
    "version": 2
   },
   "file_extension": ".py",
   "mimetype": "text/x-python",
   "name": "python",
   "nbconvert_exporter": "python",
   "pygments_lexer": "ipython2",
   "version": "2.7.11"
  }
 },
 "nbformat": 4,
 "nbformat_minor": 0
}
