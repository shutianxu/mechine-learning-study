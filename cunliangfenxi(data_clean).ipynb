{
 "cells": [
  {
   "cell_type": "code",
   "execution_count": 1,
   "metadata": {
    "collapsed": true
   },
   "outputs": [],
   "source": [
    "import pandas as pd\n",
    "import numpy as np\n",
    "import matplotlib.pyplot as plt"
   ]
  },
  {
   "cell_type": "code",
   "execution_count": 2,
   "metadata": {
    "collapsed": true
   },
   "outputs": [],
   "source": [
    "%matplotlib inline"
   ]
  },
  {
   "cell_type": "code",
   "execution_count": 3,
   "metadata": {
    "collapsed": true
   },
   "outputs": [],
   "source": [
    "from __future__ import division"
   ]
  },
  {
   "cell_type": "code",
   "execution_count": 4,
   "metadata": {
    "collapsed": false
   },
   "outputs": [
    {
     "name": "stderr",
     "output_type": "stream",
     "text": [
      "/data/mysql/anaconda2/lib/python2.7/site-packages/IPython/core/interactiveshell.py:2717: DtypeWarning: Columns (0) have mixed types. Specify dtype option on import or set low_memory=False.\n",
      "  interactivity=interactivity, compiler=compiler, result=result)\n"
     ]
    },
    {
     "data": {
      "text/html": [
       "<div>\n",
       "<table border=\"1\" class=\"dataframe\">\n",
       "  <thead>\n",
       "    <tr style=\"text-align: right;\">\n",
       "      <th></th>\n",
       "      <th>DEVICE_NUMBER</th>\n",
       "      <th>CUST_ITEM</th>\n",
       "      <th>PREPAY_FLAG</th>\n",
       "      <th>INNET_DAY</th>\n",
       "      <th>CREDIT_CLASS</th>\n",
       "      <th>BASIC_CREDIT_VALUE</th>\n",
       "      <th>CREDIT_VALUE</th>\n",
       "      <th>SCORE_VALUE</th>\n",
       "      <th>SEX</th>\n",
       "      <th>BIRTHDAY</th>\n",
       "      <th>...</th>\n",
       "      <th>DATADAY</th>\n",
       "      <th>SMSDAY</th>\n",
       "      <th>UP_SMS</th>\n",
       "      <th>SP_CNT</th>\n",
       "      <th>SP_FEE</th>\n",
       "      <th>HU_CNTA</th>\n",
       "      <th>HUCOUNT</th>\n",
       "      <th>HUBCOUNT</th>\n",
       "      <th>IS_MWU</th>\n",
       "      <th>USER_STATUS</th>\n",
       "    </tr>\n",
       "  </thead>\n",
       "  <tbody>\n",
       "    <tr>\n",
       "      <th>0</th>\n",
       "      <td>18685161808</td>\n",
       "      <td>0</td>\n",
       "      <td>0</td>\n",
       "      <td>1857</td>\n",
       "      <td>13</td>\n",
       "      <td>0</td>\n",
       "      <td>0</td>\n",
       "      <td>4197</td>\n",
       "      <td>F</td>\n",
       "      <td>19650411.0</td>\n",
       "      <td>...</td>\n",
       "      <td>0</td>\n",
       "      <td>10</td>\n",
       "      <td>0</td>\n",
       "      <td>1</td>\n",
       "      <td>0.0</td>\n",
       "      <td>0</td>\n",
       "      <td>0</td>\n",
       "      <td>0</td>\n",
       "      <td>0</td>\n",
       "      <td>0</td>\n",
       "    </tr>\n",
       "    <tr>\n",
       "      <th>1</th>\n",
       "      <td>18585952952</td>\n",
       "      <td>0</td>\n",
       "      <td>0</td>\n",
       "      <td>743</td>\n",
       "      <td>12</td>\n",
       "      <td>0</td>\n",
       "      <td>0</td>\n",
       "      <td>1492</td>\n",
       "      <td>F</td>\n",
       "      <td>19570810.0</td>\n",
       "      <td>...</td>\n",
       "      <td>0</td>\n",
       "      <td>21</td>\n",
       "      <td>0</td>\n",
       "      <td>0</td>\n",
       "      <td>0.0</td>\n",
       "      <td>0</td>\n",
       "      <td>0</td>\n",
       "      <td>0</td>\n",
       "      <td>0</td>\n",
       "      <td>0</td>\n",
       "    </tr>\n",
       "    <tr>\n",
       "      <th>2</th>\n",
       "      <td>18685899989</td>\n",
       "      <td>1</td>\n",
       "      <td>0</td>\n",
       "      <td>1773</td>\n",
       "      <td>11</td>\n",
       "      <td>1</td>\n",
       "      <td>0</td>\n",
       "      <td>1964</td>\n",
       "      <td>M</td>\n",
       "      <td>19890705.0</td>\n",
       "      <td>...</td>\n",
       "      <td>12</td>\n",
       "      <td>8</td>\n",
       "      <td>0</td>\n",
       "      <td>0</td>\n",
       "      <td>0.0</td>\n",
       "      <td>0</td>\n",
       "      <td>0</td>\n",
       "      <td>0</td>\n",
       "      <td>0</td>\n",
       "      <td>0</td>\n",
       "    </tr>\n",
       "    <tr>\n",
       "      <th>3</th>\n",
       "      <td>15599241716</td>\n",
       "      <td>0</td>\n",
       "      <td>1</td>\n",
       "      <td>604</td>\n",
       "      <td>-1</td>\n",
       "      <td>0</td>\n",
       "      <td>0</td>\n",
       "      <td>443</td>\n",
       "      <td>0</td>\n",
       "      <td>19610720.0</td>\n",
       "      <td>...</td>\n",
       "      <td>0</td>\n",
       "      <td>6</td>\n",
       "      <td>0</td>\n",
       "      <td>5</td>\n",
       "      <td>31.0</td>\n",
       "      <td>0</td>\n",
       "      <td>0</td>\n",
       "      <td>0</td>\n",
       "      <td>0</td>\n",
       "      <td>0</td>\n",
       "    </tr>\n",
       "    <tr>\n",
       "      <th>4</th>\n",
       "      <td>13086955995</td>\n",
       "      <td>0</td>\n",
       "      <td>0</td>\n",
       "      <td>3679</td>\n",
       "      <td>0</td>\n",
       "      <td>0</td>\n",
       "      <td>0</td>\n",
       "      <td>5099</td>\n",
       "      <td>M</td>\n",
       "      <td>19891119.0</td>\n",
       "      <td>...</td>\n",
       "      <td>0</td>\n",
       "      <td>0</td>\n",
       "      <td>0</td>\n",
       "      <td>7</td>\n",
       "      <td>0.0</td>\n",
       "      <td>0</td>\n",
       "      <td>1</td>\n",
       "      <td>0</td>\n",
       "      <td>0</td>\n",
       "      <td>0</td>\n",
       "    </tr>\n",
       "  </tbody>\n",
       "</table>\n",
       "<p>5 rows × 42 columns</p>\n",
       "</div>"
      ],
      "text/plain": [
       "  DEVICE_NUMBER  CUST_ITEM  PREPAY_FLAG  INNET_DAY  CREDIT_CLASS  \\\n",
       "0   18685161808          0            0       1857            13   \n",
       "1   18585952952          0            0        743            12   \n",
       "2   18685899989          1            0       1773            11   \n",
       "3   15599241716          0            1        604            -1   \n",
       "4   13086955995          0            0       3679             0   \n",
       "\n",
       "   BASIC_CREDIT_VALUE  CREDIT_VALUE  SCORE_VALUE SEX    BIRTHDAY     ...       \\\n",
       "0                   0             0         4197   F  19650411.0     ...        \n",
       "1                   0             0         1492   F  19570810.0     ...        \n",
       "2                   1             0         1964   M  19890705.0     ...        \n",
       "3                   0             0          443   0  19610720.0     ...        \n",
       "4                   0             0         5099   M  19891119.0     ...        \n",
       "\n",
       "   DATADAY  SMSDAY  UP_SMS  SP_CNT  SP_FEE  HU_CNTA  HUCOUNT  HUBCOUNT  \\\n",
       "0        0      10       0       1     0.0        0        0         0   \n",
       "1        0      21       0       0     0.0        0        0         0   \n",
       "2       12       8       0       0     0.0        0        0         0   \n",
       "3        0       6       0       5    31.0        0        0         0   \n",
       "4        0       0       0       7     0.0        0        1         0   \n",
       "\n",
       "   IS_MWU  USER_STATUS  \n",
       "0       0            0  \n",
       "1       0            0  \n",
       "2       0            0  \n",
       "3       0            0  \n",
       "4       0            0  \n",
       "\n",
       "[5 rows x 42 columns]"
      ]
     },
     "execution_count": 4,
     "metadata": {},
     "output_type": "execute_result"
    }
   ],
   "source": [
    "df = pd.read_csv(\"/data/mysql/pyshell/python/cunliangfenxi.csv\", encoding = 'gb2312')\n",
    "df.head()\n",
    "# df = pd.read_csv(\"/data/mysql/pyshell/python/liuliangwangliushi.csv\", encoding = 'gb2312')\n",
    "# df.head()"
   ]
  },
  {
   "cell_type": "code",
   "execution_count": 5,
   "metadata": {
    "collapsed": true
   },
   "outputs": [],
   "source": [
    "data=df"
   ]
  },
  {
   "cell_type": "code",
   "execution_count": 6,
   "metadata": {
    "collapsed": false
   },
   "outputs": [
    {
     "data": {
      "text/plain": [
       "42"
      ]
     },
     "execution_count": 6,
     "metadata": {},
     "output_type": "execute_result"
    }
   ],
   "source": [
    "# print(df.iloc[0])\n",
    "data.shape[1]"
   ]
  },
  {
   "cell_type": "code",
   "execution_count": 7,
   "metadata": {
    "collapsed": false
   },
   "outputs": [],
   "source": [
    "half_count = len(data) / 2\n",
    "# 去掉空缺大于一半以上的值\n",
    "data = data.dropna(thresh=half_count, axis=1)"
   ]
  },
  {
   "cell_type": "code",
   "execution_count": 8,
   "metadata": {
    "collapsed": false
   },
   "outputs": [
    {
     "data": {
      "text/plain": [
       "42"
      ]
     },
     "execution_count": 8,
     "metadata": {},
     "output_type": "execute_result"
    }
   ],
   "source": [
    "# print(df.iloc[0])\n",
    "data.shape[1]"
   ]
  },
  {
   "cell_type": "code",
   "execution_count": 9,
   "metadata": {
    "collapsed": false
   },
   "outputs": [
    {
     "data": {
      "text/plain": [
       "Index([u'DEVICE_NUMBER', u'CUST_ITEM', u'PREPAY_FLAG', u'INNET_DAY',\n",
       "       u'CREDIT_CLASS', u'BASIC_CREDIT_VALUE', u'CREDIT_VALUE', u'SCORE_VALUE',\n",
       "       u'SEX', u'BIRTHDAY', u'USER_FULL', u'IS_PHONE', u'IS_NEWM', u'IS_23TO4',\n",
       "       u'IS_HONG', u'ZHUFU', u'CALL_TIME', u'ZHUTIME_D3', u'GPRSDATA_D3',\n",
       "       u'SMSCNT_D3', u'CALL_10086', u'CALL_10000', u'ZHU_TIME', u'BEI_TIME',\n",
       "       u'ZHU_TIMEA3', u'CALL_FEE', u'ZHU_CNTA', u'ZHU_CNT', u'BEI_CNT',\n",
       "       u'GPRS_DATA', u'ZHUDAY', u'BEIDAY', u'DATADAY', u'SMSDAY', u'UP_SMS',\n",
       "       u'SP_CNT', u'SP_FEE', u'HU_CNTA', u'HUCOUNT', u'HUBCOUNT', u'IS_MWU',\n",
       "       u'USER_STATUS'],\n",
       "      dtype='object')"
      ]
     },
     "execution_count": 9,
     "metadata": {},
     "output_type": "execute_result"
    }
   ],
   "source": [
    "data.columns"
   ]
  },
  {
   "cell_type": "code",
   "execution_count": 10,
   "metadata": {
    "collapsed": false
   },
   "outputs": [],
   "source": [
    "data = data.drop([\"DEVICE_NUMBER\", \"BASIC_CREDIT_VALUE\", \"CREDIT_VALUE\", \"USER_FULL\", \"IS_PHONE\", \"ZHUTIME_D3\", \"GPRSDATA_D3\", \"SMSCNT_D3\"], axis=1)"
   ]
  },
  {
   "cell_type": "code",
   "execution_count": 11,
   "metadata": {
    "collapsed": false
   },
   "outputs": [],
   "source": [
    "data = data.drop([\"ZHU_TIMEA3\", \"ZHU_CNTA\", \"ZHU_CNT\", \"BEI_CNT\", \"SP_CNT\", \"HU_CNTA\", \"HUBCOUNT\"], axis=1)"
   ]
  },
  {
   "cell_type": "code",
   "execution_count": 12,
   "metadata": {
    "collapsed": false
   },
   "outputs": [
    {
     "name": "stdout",
     "output_type": "stream",
     "text": [
      "CUST_ITEM                 0\n",
      "PREPAY_FLAG               0\n",
      "INNET_DAY              1857\n",
      "CREDIT_CLASS             13\n",
      "SCORE_VALUE            4197\n",
      "SEX                       F\n",
      "BIRTHDAY        1.96504e+07\n",
      "IS_NEWM                   0\n",
      "IS_23TO4                  0\n",
      "IS_HONG                   0\n",
      "ZHUFU                     3\n",
      "CALL_TIME               920\n",
      "CALL_10086                0\n",
      "CALL_10000                0\n",
      "ZHU_TIME                190\n",
      "BEI_TIME                730\n",
      "CALL_FEE                  0\n",
      "GPRS_DATA              0.06\n",
      "ZHUDAY                    0\n",
      "BEIDAY                    0\n",
      "DATADAY                   0\n",
      "SMSDAY                   10\n",
      "UP_SMS                    0\n",
      "SP_FEE                    0\n",
      "HUCOUNT                   0\n",
      "IS_MWU                    0\n",
      "USER_STATUS               0\n",
      "Name: 0, dtype: object\n"
     ]
    },
    {
     "data": {
      "text/plain": [
       "27"
      ]
     },
     "execution_count": 12,
     "metadata": {},
     "output_type": "execute_result"
    }
   ],
   "source": [
    "print(data.iloc[0])\n",
    "data.shape[1]"
   ]
  },
  {
   "cell_type": "code",
   "execution_count": 13,
   "metadata": {
    "collapsed": false
   },
   "outputs": [
    {
     "name": "stdout",
     "output_type": "stream",
     "text": [
      "0    4915856\n",
      "A     486270\n",
      "7     472342\n",
      "9     375119\n",
      "B     265971\n",
      "6     252609\n",
      "5     252090\n",
      "V     145959\n",
      "P     108881\n",
      "G      89428\n",
      "S      34874\n",
      "1      12229\n",
      "4       9851\n",
      "F       8338\n",
      "M       7419\n",
      "I        840\n",
      "Q        783\n",
      "j        688\n",
      "8        543\n",
      "N        439\n",
      "2        424\n",
      "T        172\n",
      "R         68\n",
      "J         32\n",
      "g         20\n",
      "e          2\n",
      "Name: USER_STATUS, dtype: int64\n"
     ]
    }
   ],
   "source": [
    "print(data['USER_STATUS'].value_counts())"
   ]
  },
  {
   "cell_type": "code",
   "execution_count": 14,
   "metadata": {
    "collapsed": false
   },
   "outputs": [],
   "source": [
    "#处理LABLE列\n",
    "data = data[(data['USER_STATUS'] == \"0\") | (data['USER_STATUS'] == \"A\")| \n",
    "            (data['USER_STATUS'] == \"7\")| (data['USER_STATUS'] == \"9\")\n",
    "           | (data['USER_STATUS'] == \"B\")| (data['USER_STATUS'] == \"6\")\n",
    "           | (data['USER_STATUS'] == \"5\")| (data['USER_STATUS'] == \"V\")| (data['USER_STATUS'] == \"P\")]\n",
    "\n",
    "status_replace = {\n",
    "    \"USER_STATUS\" : {\n",
    "        \"0\": 0,\n",
    "        \"A\": 1,\n",
    "        \"7\": 1,\n",
    "        \"9\": 1,\n",
    "        \"B\": 1,\n",
    "        \"6\": 1,\n",
    "        \"5\": 1,\n",
    "        \"V\": 1,\n",
    "        \"P\": 1,\n",
    "    }\n",
    "}\n",
    "\n",
    "data = data.replace(status_replace)"
   ]
  },
  {
   "cell_type": "code",
   "execution_count": null,
   "metadata": {
    "collapsed": false
   },
   "outputs": [],
   "source": [
    "# data['USER_STATUS'] = data['USER_STATUS'].map({ u'0':0,u'1':1,u'2':1,u'3':1,u'4':1,u'5':1,u'6':1,u'7':1,u'8':1,u'9':1,u'A':1,u'a':1,u'B':1,\n",
    "#                                                 u'b':1,u'c':1,u'C':1,u'd':1,u'D':1,u'E':1,u'e':1,u'F':1,u'f':1,u'H':1,u'h':1,u'i':1,u'I':1,\n",
    "#                                                 u'M':1,u'm':1,u'N':0,u'n':0,u'Q':1,u'q':1,u'R':1,u'r':1,u's':1,u'S':1,u'T':1,u't':1,u'u':1,\n",
    "#                                                 u'U':1,u'V':1,u'v':1,u'W':1,u'w':1,u'X':1,u'x':1,u'Y':1,u'y':1,u'Z':0,u'z':0\n",
    "#                                         })\n"
   ]
  },
  {
   "cell_type": "code",
   "execution_count": null,
   "metadata": {
    "collapsed": false
   },
   "outputs": [],
   "source": [
    "#去除某列数据值唯一（先处理NAN的市局）\n",
    "orig_columns = data.columns\n",
    "drop_columns = []\n",
    "for col in orig_columns:\n",
    "    col_series = data[col].dropna().unique()\n",
    "    if len(col_series) == 1:\n",
    "        drop_columns.append(col)\n",
    "data = data.drop(drop_columns, axis=1)\n",
    "print(drop_columns)\n",
    "print data.shape"
   ]
  },
  {
   "cell_type": "code",
   "execution_count": null,
   "metadata": {
    "collapsed": false
   },
   "outputs": [],
   "source": [
    "#空集数量\n",
    "null_counts = data.isnull().sum()\n",
    "print(null_counts)"
   ]
  },
  {
   "cell_type": "code",
   "execution_count": null,
   "metadata": {
    "collapsed": false
   },
   "outputs": [],
   "source": [
    "#去掉某一列\n",
    "data = data.drop([\"SEX\",\"BIRTHDAY\"],axis=1)\n",
    "#去掉某缺失值\n",
    "# data = data.dropna(axis=0)"
   ]
  },
  {
   "cell_type": "code",
   "execution_count": null,
   "metadata": {
    "collapsed": false
   },
   "outputs": [],
   "source": [
    "print(data.dtypes.value_counts())"
   ]
  },
  {
   "cell_type": "code",
   "execution_count": null,
   "metadata": {
    "collapsed": false
   },
   "outputs": [],
   "source": [
    "# data['USER_STATUS']=np.nan_to_num(data['USER_STATUS'])"
   ]
  },
  {
   "cell_type": "code",
   "execution_count": null,
   "metadata": {
    "collapsed": false
   },
   "outputs": [],
   "source": [
    "data.columns"
   ]
  },
  {
   "cell_type": "code",
   "execution_count": null,
   "metadata": {
    "collapsed": false
   },
   "outputs": [],
   "source": [
    "from patsy import dmatrices,dmatrix    #凡是分类变量均要使用哑变量处理\n",
    "CX = dmatrix ('C(CUST_ITEM) + C(PREPAY_FLAG) + C(ZHUFU)+ C(IS_NEWM) + C(IS_23TO4) + C(IS_HONG)',data = data ,return_type = 'dataframe')"
   ]
  },
  {
   "cell_type": "code",
   "execution_count": null,
   "metadata": {
    "collapsed": true
   },
   "outputs": [],
   "source": [
    "# XXX=data[[u'CUST_ITEM',u'INNET_DAY',\n",
    "#        u'CREDIT_CLASS', u'BASIC_CREDIT_VALUE', u'CREDIT_VALUE', u'SCORE_VALUE', u'IS_PHONE', \n",
    "#        u'IS_NEWM', u'IS_23TO4',\n",
    "#        u'IS_HONG',u'CALL_TIME', u'ZHUTIME_D3', u'GPRSDATA_D3',\n",
    "#        u'SMSCNT_D3', u'CALL_10086', u'CALL_10000', u'ZHU_TIME', u'BEI_TIME',\n",
    "#        u'ZHU_TIMEA3', u'CALL_FEE', u'ZHU_CNTA', u'ZHU_CNT', u'BEI_CNT',\n",
    "#        u'GPRS_DATA', u'ZHUDAY', u'BEIDAY', u'DATADAY', u'SMSDAY', u'UP_SMS',\n",
    "#        u'SP_CNT', u'SP_FEE', u'HU_CNTA', u'HUCOUNT', u'HUBCOUNT', u'IS_MWU',u'USER_STATUS'\n",
    "#         ]]"
   ]
  },
  {
   "cell_type": "markdown",
   "metadata": {},
   "source": [
    "剪枝"
   ]
  },
  {
   "cell_type": "code",
   "execution_count": null,
   "metadata": {
    "collapsed": false
   },
   "outputs": [],
   "source": [
    "XXX=data.drop([\"CUST_ITEM\",\"PREPAY_FLAG\",\"ZHUFU\",\"IS_NEWM\",\"IS_23TO4\",\"IS_HONG\"], axis=1)"
   ]
  },
  {
   "cell_type": "code",
   "execution_count": null,
   "metadata": {
    "collapsed": false
   },
   "outputs": [],
   "source": [
    "XX=CX.join(XXX)"
   ]
  },
  {
   "cell_type": "code",
   "execution_count": null,
   "metadata": {
    "collapsed": false
   },
   "outputs": [],
   "source": [
    "# X = XX.drop(['USER_STATUS'],axis=1)"
   ]
  },
  {
   "cell_type": "code",
   "execution_count": null,
   "metadata": {
    "collapsed": false
   },
   "outputs": [],
   "source": [
    "# X=XX.iloc[:,:50]\n",
    "# X=XX.iloc[:,:39]"
   ]
  },
  {
   "cell_type": "code",
   "execution_count": null,
   "metadata": {
    "collapsed": false
   },
   "outputs": [],
   "source": [
    "# y=XX['USER_STATUS']"
   ]
  },
  {
   "cell_type": "markdown",
   "metadata": {},
   "source": [
    "#决策树"
   ]
  },
  {
   "cell_type": "code",
   "execution_count": null,
   "metadata": {
    "collapsed": false
   },
   "outputs": [],
   "source": [
    "from sklearn import tree\n",
    "from sklearn.model_selection import train_test_split \n",
    "from sklearn.metrics import classification_report   \n",
    "from sklearn import metrics  \n",
    "# from sklearn.ensemble import RandomForestClassifier\n",
    "\n",
    "AA=XX\n",
    "AA=AA.iloc[0:3000000,:]\n",
    "BBB=AA['USER_STATUS']\n",
    "# AAA=AA.iloc[:,0:50]\n",
    "AAA=AA.iloc[:,0:39]\n",
    "\n",
    "X_train,X_test,y_train,y_test = train_test_split(\n",
    "AAA,BBB,test_size=0.25,random_state=42)\n",
    "\n",
    "clf = tree.DecisionTreeClassifier(criterion='entropy')\n",
    "# clf = tree.RandomForestClassifier()\n",
    "tree_model = clf.fit(X_train , y_train)"
   ]
  },
  {
   "cell_type": "code",
   "execution_count": null,
   "metadata": {
    "collapsed": true
   },
   "outputs": [],
   "source": [
    "y_prb = tree_model.predict(X_test)"
   ]
  },
  {
   "cell_type": "code",
   "execution_count": null,
   "metadata": {
    "collapsed": false
   },
   "outputs": [],
   "source": [
    "\n",
    "print(classification_report(y_test,y_prb))\n",
    "metrics.roc_auc_score(y_test,y_prb)  "
   ]
  },
  {
   "cell_type": "code",
   "execution_count": null,
   "metadata": {
    "collapsed": true
   },
   "outputs": [],
   "source": [
    "# 把决策树结构写入文件 \n",
    "with open(\"tree.dot\", 'w') as f:  \n",
    "    f = tree.export_graphviz(clf, out_file=f) "
   ]
  },
  {
   "cell_type": "code",
   "execution_count": null,
   "metadata": {
    "collapsed": false
   },
   "outputs": [],
   "source": [
    "# 系数反映每个特征的影响力。越大表示该特征在分类中起到的作用越大  \n",
    "print(clf.feature_importances_)  "
   ]
  },
  {
   "cell_type": "code",
   "execution_count": null,
   "metadata": {
    "collapsed": false
   },
   "outputs": [],
   "source": [
    "AAA.columns"
   ]
  },
  {
   "cell_type": "code",
   "execution_count": null,
   "metadata": {
    "collapsed": false
   },
   "outputs": [],
   "source": [
    "# 测试结果的打印  \n",
    "answer = clf.predict(X_train)  \n",
    "print(X_train)  \n",
    "print(answer)  \n",
    "print(y_train)  \n",
    "print(np.mean( answer == y_train))  "
   ]
  },
  {
   "cell_type": "code",
   "execution_count": null,
   "metadata": {
    "collapsed": true
   },
   "outputs": [],
   "source": []
  },
  {
   "cell_type": "markdown",
   "metadata": {},
   "source": [
    "#逻辑回归"
   ]
  },
  {
   "cell_type": "code",
   "execution_count": null,
   "metadata": {
    "collapsed": false
   },
   "outputs": [],
   "source": [
    "# from sklearn.linear_model import LogisticRegression   \n",
    " \n",
    "\n",
    "# # 使用类，参数全是默认的  \n",
    "# classifier = LogisticRegression(fit_intercept = False, C = 1e9)  \n",
    "# model = classifier.fit(X, y)               # 训练数据来学习 \n",
    "\n",
    "# pd.DataFrame(zip(X.columns, np.transpose(model.coef_)),columns=['feature','coef'])"
   ]
  },
  {
   "cell_type": "code",
   "execution_count": null,
   "metadata": {
    "collapsed": false
   },
   "outputs": [],
   "source": [
    "from sklearn.linear_model import LogisticRegression  \n",
    "from sklearn.model_selection import train_test_split \n",
    "from sklearn.metrics import classification_report   \n",
    "from sklearn import metrics  \n",
    "\n",
    "\n",
    "\n",
    "features = XX.iloc[0:2000000,:].drop(['USER_STATUS'],axis=1)\n",
    "target = XX.iloc[0:2000000,:]['USER_STATUS']\n",
    "\n",
    "\n",
    "# 阈值越少，流失召回率越高 \n",
    "X_train,X_test,y_train,y_test = train_test_split(\n",
    "features,target,test_size=0.25,random_state=42)\n",
    "\n",
    "\n",
    "#使用类参数全程默认\n",
    "classifier = LogisticRegression(fit_intercept = False, C = 1e9,class_weight=\"balanced\")  \n",
    "model = classifier.fit(X_train, y_train)               # 训练数据来学习 \n",
    "\n",
    "\n",
    "y_pre = model.predict(X_test)\n",
    "print(classification_report(y_test,y_pre))  \n",
    "metrics.roc_auc_score(y_test,y_pre) #预测Y值得分"
   ]
  },
  {
   "cell_type": "code",
   "execution_count": null,
   "metadata": {
    "collapsed": false
   },
   "outputs": [],
   "source": [
    "# 阈值越少，流失召回率越高 \n",
    "X_train,X_test,y_train,y_test = train_test_split(\n",
    "features,target,test_size=0.25,random_state=42)\n",
    "\n",
    "penalty = { 1 : 5 }\n",
    "\n",
    "#使用类参数全程默认\n",
    "classifier = LogisticRegression(fit_intercept = False, C = 1e9,class_weight = penalty )  \n",
    "model = classifier.fit(X_train, y_train)               # 训练数据来学习 \n",
    "\n",
    "\n",
    "y_pre = model.predict(X_test)\n",
    "print(classification_report(y_test,y_pre))  \n",
    "metrics.roc_auc_score(y_test,y_pre) #预测Y值得分"
   ]
  },
  {
   "cell_type": "code",
   "execution_count": null,
   "metadata": {
    "collapsed": true
   },
   "outputs": [],
   "source": []
  }
 ],
 "metadata": {
  "celltoolbar": "Raw Cell Format",
  "kernelspec": {
   "display_name": "Python 2",
   "language": "python",
   "name": "python2"
  },
  "language_info": {
   "codemirror_mode": {
    "name": "ipython",
    "version": 2
   },
   "file_extension": ".py",
   "mimetype": "text/x-python",
   "name": "python",
   "nbconvert_exporter": "python",
   "pygments_lexer": "ipython2",
   "version": "2.7.13"
  }
 },
 "nbformat": 4,
 "nbformat_minor": 2
}
